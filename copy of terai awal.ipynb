{
  "cells": [
    {
      "cell_type": "markdown",
      "metadata": {
        "id": "n7MOfGxpWLJ8"
      },
      "source": [
        "# Import Dataset"
      ]
    },
    {
      "cell_type": "code",
      "execution_count": null,
      "metadata": {
        "id": "gj8yQ5R0aEhl"
      },
      "outputs": [],
      "source": [
        "!gdown https://drive.google.com/uc?id=1Kjt7cOPPJFT0pb4rVDDAE6gOMbK4ktYq &> /dev/null\n",
        "!unzip final.zip &> /dev/null\n",
        "!rm -r final.zip &> /dev/null"
      ]
    },
    {
      "cell_type": "markdown",
      "metadata": {
        "id": "DfRQWwJ0Wcni"
      },
      "source": [
        "# Import Libraries"
      ]
    },
    {
      "cell_type": "code",
      "execution_count": null,
      "metadata": {
        "id": "yL5Y7rbxDKSg"
      },
      "outputs": [],
      "source": [
        "import numpy as np\n",
        "import pandas as pd\n",
        "import matplotlib.pyplot as plt\n",
        "from keras.applications.vgg16 import VGG16\n",
        "from keras.applications.vgg16 import preprocess_input\n",
        "from keras.applications.resnet50 import ResNet50\n",
        "from keras.preprocessing.image import ImageDataGenerator\n",
        "from keras.models import Sequential\n",
        "from keras.layers import Dense,AveragePooling2D,Flatten,Dropout"
      ]
    },
    {
      "cell_type": "markdown",
      "metadata": {
        "id": "jdyV1CStWhjp"
      },
      "source": [
        "# Preprocessing"
      ]
    },
    {
      "cell_type": "code",
      "execution_count": null,
      "metadata": {
        "colab": {
          "base_uri": "https://localhost:8080/"
        },
        "id": "HU4efM6uE6Yd",
        "outputId": "6f37ade9-8578-46db-f0a7-16deafe11d03"
      },
      "outputs": [
        {
          "output_type": "stream",
          "name": "stdout",
          "text": [
            "Found 14895 images belonging to 7 classes.\n",
            "Found 4219 images belonging to 7 classes.\n"
          ]
        }
      ],
      "source": [
        "import tensorflow as tf\n",
        "from tensorflow.keras.preprocessing.image import ImageDataGenerator\n",
        "\n",
        "def train_val_generators(TRAINING_DIR, VALIDATION_DIR):\n",
        "    \"\"\"\n",
        "    Creates the training and validation data generators\n",
        "\n",
        "    Args:\n",
        "        TRAINING_DIR (string): directory path containing the training images\n",
        "        VALIDATION_DIR (string): directory path containing the testing/validation images\n",
        "\n",
        "    Returns:\n",
        "        train_generator, validation_generator - tuple containing the generators\n",
        "    \"\"\"\n",
        "    train_datagen = ImageDataGenerator(rescale=1.0/255)\n",
        "\n",
        "    train_generator = train_datagen.flow_from_directory(directory=TRAINING_DIR,\n",
        "                                                        batch_size=32,\n",
        "                                                        class_mode='categorical',\n",
        "                                                        target_size=(224, 224))\n",
        "\n",
        "    validation_datagen = ImageDataGenerator(rescale=1.0/255)\n",
        "    validation_generator = validation_datagen.flow_from_directory(directory=VALIDATION_DIR,\n",
        "                                                                  batch_size=32,\n",
        "                                                                  class_mode='categorical',\n",
        "                                                                  target_size=(224, 224))\n",
        "    return train_generator, validation_generator\n",
        "\n",
        "# Paths\n",
        "TRAINING_DIR = '/content/final/train'\n",
        "VALIDATION_DIR = '/content/final/valid'\n",
        "\n",
        "train_generator, validation_generator = train_val_generators(TRAINING_DIR, VALIDATION_DIR)"
      ]
    },
    {
      "cell_type": "markdown",
      "source": [
        "# Manual Architecture"
      ],
      "metadata": {
        "id": "L_aHYiw6bbrf"
      }
    },
    {
      "cell_type": "code",
      "source": [
        "num_classes = len(train_generator.class_indices)\n",
        "\n",
        "def create_model(num_classes):\n",
        "    model = tf.keras.models.Sequential([\n",
        "        tf.keras.layers.Conv2D(32, 3, padding='same', activation='relu', input_shape=(224, 224, 3)),\n",
        "        tf.keras.layers.BatchNormalization(),\n",
        "        tf.keras.layers.MaxPooling2D(),\n",
        "        tf.keras.layers.Conv2D(64, 3, padding='same', activation='relu'),\n",
        "        tf.keras.layers.BatchNormalization(),\n",
        "        tf.keras.layers.MaxPooling2D(),\n",
        "        tf.keras.layers.Conv2D(128, 3, padding='same', activation='relu'),\n",
        "        tf.keras.layers.BatchNormalization(),\n",
        "        tf.keras.layers.MaxPooling2D(),\n",
        "        tf.keras.layers.Conv2D(256, 3, padding='same', activation='relu'),\n",
        "        tf.keras.layers.BatchNormalization(),\n",
        "        tf.keras.layers.MaxPooling2D(),\n",
        "        tf.keras.layers.Flatten(),\n",
        "        tf.keras.layers.Dense(512, activation='relu'),\n",
        "        tf.keras.layers.Dropout(0.5),\n",
        "        tf.keras.layers.Dense(num_classes, activation='softmax')\n",
        "    ])\n",
        "\n",
        "    model.compile(optimizer=tf.keras.optimizers.Adam(learning_rate=0.0001),\n",
        "                  loss=tf.keras.losses.CategoricalCrossentropy(),\n",
        "                  metrics=['accuracy'])\n",
        "\n",
        "    return model\n",
        "\n",
        "# Create model\n",
        "model = create_model(num_classes)\n",
        "\n",
        "# Train model\n",
        "history = model.fit(train_generator,\n",
        "                    epochs=1,\n",
        "                    verbose=1,\n",
        "                    validation_data=validation_generator)"
      ],
      "metadata": {
        "colab": {
          "base_uri": "https://localhost:8080/"
        },
        "id": "OC4_V5dIbef3",
        "outputId": "c7f9b5ce-004d-4bb5-91bb-179a18c0c2e3"
      },
      "execution_count": null,
      "outputs": [
        {
          "output_type": "stream",
          "name": "stdout",
          "text": [
            "466/466 [==============================] - 59s 103ms/step - loss: 1.5443 - accuracy: 0.4710 - val_loss: 3.0266 - val_accuracy: 0.3522\n"
          ]
        }
      ]
    },
    {
      "cell_type": "code",
      "source": [
        "model_json = model.to_json()\n",
        "\n",
        "# Save the model to a JSON file\n",
        "with open('model.json', 'w') as json_file:\n",
        "    json_file.write(model_json)"
      ],
      "metadata": {
        "id": "ZmT4e2kfXA4q"
      },
      "execution_count": null,
      "outputs": []
    },
    {
      "cell_type": "code",
      "source": [
        "from tensorflow.keras.models import load_model\n",
        "\n",
        "saved_model_path = \"./model.h5\"\n",
        "\n",
        "# YOUR CODE HERE\n",
        "model.save(saved_model_path)\n",
        "\n",
        "# Muat model Keras\n",
        "model = load_model(model_path)\n",
        "\n",
        "# Simpan model dalam format SavedModel\n",
        "tf.saved_model.save(model, saved_model_dir)"
      ],
      "metadata": {
        "id": "aL0m8194XUTQ",
        "colab": {
          "base_uri": "https://localhost:8080/"
        },
        "outputId": "c85b3207-e163-4623-86ed-6331ba012a6e"
      },
      "execution_count": null,
      "outputs": [
        {
          "output_type": "stream",
          "name": "stderr",
          "text": [
            "/usr/local/lib/python3.10/dist-packages/keras/src/engine/training.py:3103: UserWarning: You are saving your model as an HDF5 file via `model.save()`. This file format is considered legacy. We recommend using instead the native Keras format, e.g. `model.save('my_model.keras')`.\n",
            "  saving_api.save_model(\n"
          ]
        }
      ]
    },
    {
      "cell_type": "code",
      "source": [
        "!pip install tensorflowjs"
      ],
      "metadata": {
        "colab": {
          "base_uri": "https://localhost:8080/",
          "height": 1000
        },
        "id": "WwPxUYd4WLxp",
        "outputId": "611b73c8-4a70-4f21-b3a5-f645be5961c8"
      },
      "execution_count": null,
      "outputs": [
        {
          "output_type": "stream",
          "name": "stdout",
          "text": [
            "Collecting tensorflowjs\n",
            "  Downloading tensorflowjs-4.20.0-py3-none-any.whl (89 kB)\n",
            "\u001b[?25l     \u001b[90m━━━━━━━━━━━━━━━━━━━━━━━━━━━━━━━━━━━━━━━━\u001b[0m \u001b[32m0.0/89.1 kB\u001b[0m \u001b[31m?\u001b[0m eta \u001b[36m-:--:--\u001b[0m\r\u001b[2K     \u001b[90m━━━━━━━━━━━━━━━━━━━━━━━━━━━━━━━━━━━━━━━━\u001b[0m \u001b[32m89.1/89.1 kB\u001b[0m \u001b[31m3.1 MB/s\u001b[0m eta \u001b[36m0:00:00\u001b[0m\n",
            "\u001b[?25hRequirement already satisfied: flax>=0.7.2 in /usr/local/lib/python3.10/dist-packages (from tensorflowjs) (0.8.4)\n",
            "Requirement already satisfied: importlib_resources>=5.9.0 in /usr/local/lib/python3.10/dist-packages (from tensorflowjs) (6.4.0)\n",
            "Requirement already satisfied: jax>=0.4.13 in /usr/local/lib/python3.10/dist-packages (from tensorflowjs) (0.4.26)\n",
            "Requirement already satisfied: jaxlib>=0.4.13 in /usr/local/lib/python3.10/dist-packages (from tensorflowjs) (0.4.26+cuda12.cudnn89)\n",
            "Requirement already satisfied: tensorflow<3,>=2.13.0 in /usr/local/lib/python3.10/dist-packages (from tensorflowjs) (2.15.0)\n",
            "Requirement already satisfied: tf-keras>=2.13.0 in /usr/local/lib/python3.10/dist-packages (from tensorflowjs) (2.15.1)\n",
            "Collecting tensorflow-decision-forests>=1.5.0 (from tensorflowjs)\n",
            "  Downloading tensorflow_decision_forests-1.9.1-cp310-cp310-manylinux_2_17_x86_64.manylinux2014_x86_64.whl (15.5 MB)\n",
            "\u001b[2K     \u001b[90m━━━━━━━━━━━━━━━━━━━━━━━━━━━━━━━━━━━━━━━━\u001b[0m \u001b[32m15.5/15.5 MB\u001b[0m \u001b[31m56.5 MB/s\u001b[0m eta \u001b[36m0:00:00\u001b[0m\n",
            "\u001b[?25hRequirement already satisfied: six<2,>=1.16.0 in /usr/local/lib/python3.10/dist-packages (from tensorflowjs) (1.16.0)\n",
            "Requirement already satisfied: tensorflow-hub>=0.16.1 in /usr/local/lib/python3.10/dist-packages (from tensorflowjs) (0.16.1)\n",
            "Collecting packaging~=23.1 (from tensorflowjs)\n",
            "  Downloading packaging-23.2-py3-none-any.whl (53 kB)\n",
            "\u001b[2K     \u001b[90m━━━━━━━━━━━━━━━━━━━━━━━━━━━━━━━━━━━━━━━━\u001b[0m \u001b[32m53.0/53.0 kB\u001b[0m \u001b[31m7.9 MB/s\u001b[0m eta \u001b[36m0:00:00\u001b[0m\n",
            "\u001b[?25hRequirement already satisfied: numpy>=1.22 in /usr/local/lib/python3.10/dist-packages (from flax>=0.7.2->tensorflowjs) (1.25.2)\n",
            "Requirement already satisfied: msgpack in /usr/local/lib/python3.10/dist-packages (from flax>=0.7.2->tensorflowjs) (1.0.8)\n",
            "Requirement already satisfied: optax in /usr/local/lib/python3.10/dist-packages (from flax>=0.7.2->tensorflowjs) (0.2.2)\n",
            "Requirement already satisfied: orbax-checkpoint in /usr/local/lib/python3.10/dist-packages (from flax>=0.7.2->tensorflowjs) (0.4.4)\n",
            "Requirement already satisfied: tensorstore in /usr/local/lib/python3.10/dist-packages (from flax>=0.7.2->tensorflowjs) (0.1.45)\n",
            "Requirement already satisfied: rich>=11.1 in /usr/local/lib/python3.10/dist-packages (from flax>=0.7.2->tensorflowjs) (13.7.1)\n",
            "Requirement already satisfied: typing-extensions>=4.2 in /usr/local/lib/python3.10/dist-packages (from flax>=0.7.2->tensorflowjs) (4.12.1)\n",
            "Requirement already satisfied: PyYAML>=5.4.1 in /usr/local/lib/python3.10/dist-packages (from flax>=0.7.2->tensorflowjs) (6.0.1)\n",
            "Requirement already satisfied: ml-dtypes>=0.2.0 in /usr/local/lib/python3.10/dist-packages (from jax>=0.4.13->tensorflowjs) (0.2.0)\n",
            "Requirement already satisfied: opt-einsum in /usr/local/lib/python3.10/dist-packages (from jax>=0.4.13->tensorflowjs) (3.3.0)\n",
            "Requirement already satisfied: scipy>=1.9 in /usr/local/lib/python3.10/dist-packages (from jax>=0.4.13->tensorflowjs) (1.11.4)\n",
            "Requirement already satisfied: absl-py>=1.0.0 in /usr/local/lib/python3.10/dist-packages (from tensorflow<3,>=2.13.0->tensorflowjs) (1.4.0)\n",
            "Requirement already satisfied: astunparse>=1.6.0 in /usr/local/lib/python3.10/dist-packages (from tensorflow<3,>=2.13.0->tensorflowjs) (1.6.3)\n",
            "Requirement already satisfied: flatbuffers>=23.5.26 in /usr/local/lib/python3.10/dist-packages (from tensorflow<3,>=2.13.0->tensorflowjs) (24.3.25)\n",
            "Requirement already satisfied: gast!=0.5.0,!=0.5.1,!=0.5.2,>=0.2.1 in /usr/local/lib/python3.10/dist-packages (from tensorflow<3,>=2.13.0->tensorflowjs) (0.5.4)\n",
            "Requirement already satisfied: google-pasta>=0.1.1 in /usr/local/lib/python3.10/dist-packages (from tensorflow<3,>=2.13.0->tensorflowjs) (0.2.0)\n",
            "Requirement already satisfied: h5py>=2.9.0 in /usr/local/lib/python3.10/dist-packages (from tensorflow<3,>=2.13.0->tensorflowjs) (3.9.0)\n",
            "Requirement already satisfied: libclang>=13.0.0 in /usr/local/lib/python3.10/dist-packages (from tensorflow<3,>=2.13.0->tensorflowjs) (18.1.1)\n",
            "Requirement already satisfied: protobuf!=4.21.0,!=4.21.1,!=4.21.2,!=4.21.3,!=4.21.4,!=4.21.5,<5.0.0dev,>=3.20.3 in /usr/local/lib/python3.10/dist-packages (from tensorflow<3,>=2.13.0->tensorflowjs) (3.20.3)\n",
            "Requirement already satisfied: setuptools in /usr/local/lib/python3.10/dist-packages (from tensorflow<3,>=2.13.0->tensorflowjs) (67.7.2)\n",
            "Requirement already satisfied: termcolor>=1.1.0 in /usr/local/lib/python3.10/dist-packages (from tensorflow<3,>=2.13.0->tensorflowjs) (2.4.0)\n",
            "Requirement already satisfied: wrapt<1.15,>=1.11.0 in /usr/local/lib/python3.10/dist-packages (from tensorflow<3,>=2.13.0->tensorflowjs) (1.14.1)\n",
            "Requirement already satisfied: tensorflow-io-gcs-filesystem>=0.23.1 in /usr/local/lib/python3.10/dist-packages (from tensorflow<3,>=2.13.0->tensorflowjs) (0.37.0)\n",
            "Requirement already satisfied: grpcio<2.0,>=1.24.3 in /usr/local/lib/python3.10/dist-packages (from tensorflow<3,>=2.13.0->tensorflowjs) (1.64.1)\n",
            "Requirement already satisfied: tensorboard<2.16,>=2.15 in /usr/local/lib/python3.10/dist-packages (from tensorflow<3,>=2.13.0->tensorflowjs) (2.15.2)\n",
            "Requirement already satisfied: tensorflow-estimator<2.16,>=2.15.0 in /usr/local/lib/python3.10/dist-packages (from tensorflow<3,>=2.13.0->tensorflowjs) (2.15.0)\n",
            "Requirement already satisfied: keras<2.16,>=2.15.0 in /usr/local/lib/python3.10/dist-packages (from tensorflow<3,>=2.13.0->tensorflowjs) (2.15.0)\n",
            "Requirement already satisfied: pandas in /usr/local/lib/python3.10/dist-packages (from tensorflow-decision-forests>=1.5.0->tensorflowjs) (2.0.3)\n",
            "Collecting tensorflow<3,>=2.13.0 (from tensorflowjs)\n",
            "  Downloading tensorflow-2.16.1-cp310-cp310-manylinux_2_17_x86_64.manylinux2014_x86_64.whl (589.8 MB)\n",
            "\u001b[2K     \u001b[90m━━━━━━━━━━━━━━━━━━━━━━━━━━━━━━━━━━━━━━━━\u001b[0m \u001b[32m589.8/589.8 MB\u001b[0m \u001b[31m1.5 MB/s\u001b[0m eta \u001b[36m0:00:00\u001b[0m\n",
            "\u001b[?25hRequirement already satisfied: wheel in /usr/local/lib/python3.10/dist-packages (from tensorflow-decision-forests>=1.5.0->tensorflowjs) (0.43.0)\n",
            "Collecting wurlitzer (from tensorflow-decision-forests>=1.5.0->tensorflowjs)\n",
            "  Downloading wurlitzer-3.1.0-py3-none-any.whl (8.4 kB)\n",
            "Collecting tf-keras>=2.13.0 (from tensorflowjs)\n",
            "  Downloading tf_keras-2.16.0-py3-none-any.whl (1.7 MB)\n",
            "\u001b[2K     \u001b[90m━━━━━━━━━━━━━━━━━━━━━━━━━━━━━━━━━━━━━━━━\u001b[0m \u001b[32m1.7/1.7 MB\u001b[0m \u001b[31m18.7 MB/s\u001b[0m eta \u001b[36m0:00:00\u001b[0m\n",
            "\u001b[?25hCollecting ydf (from tensorflow-decision-forests>=1.5.0->tensorflowjs)\n",
            "  Downloading ydf-0.4.3-cp310-cp310-manylinux_2_17_x86_64.manylinux2014_x86_64.whl (9.2 MB)\n",
            "\u001b[2K     \u001b[90m━━━━━━━━━━━━━━━━━━━━━━━━━━━━━━━━━━━━━━━━\u001b[0m \u001b[32m9.2/9.2 MB\u001b[0m \u001b[31m50.8 MB/s\u001b[0m eta \u001b[36m0:00:00\u001b[0m\n",
            "\u001b[?25hCollecting h5py>=3.10.0 (from tensorflow<3,>=2.13.0->tensorflowjs)\n",
            "  Downloading h5py-3.11.0-cp310-cp310-manylinux_2_17_x86_64.manylinux2014_x86_64.whl (5.3 MB)\n",
            "\u001b[2K     \u001b[90m━━━━━━━━━━━━━━━━━━━━━━━━━━━━━━━━━━━━━━━━\u001b[0m \u001b[32m5.3/5.3 MB\u001b[0m \u001b[31m75.7 MB/s\u001b[0m eta \u001b[36m0:00:00\u001b[0m\n",
            "\u001b[?25hCollecting ml-dtypes>=0.2.0 (from jax>=0.4.13->tensorflowjs)\n",
            "  Downloading ml_dtypes-0.3.2-cp310-cp310-manylinux_2_17_x86_64.manylinux2014_x86_64.whl (2.2 MB)\n",
            "\u001b[2K     \u001b[90m━━━━━━━━━━━━━━━━━━━━━━━━━━━━━━━━━━━━━━━━\u001b[0m \u001b[32m2.2/2.2 MB\u001b[0m \u001b[31m70.7 MB/s\u001b[0m eta \u001b[36m0:00:00\u001b[0m\n",
            "\u001b[?25hRequirement already satisfied: requests<3,>=2.21.0 in /usr/local/lib/python3.10/dist-packages (from tensorflow<3,>=2.13.0->tensorflowjs) (2.31.0)\n",
            "Collecting tensorboard<2.17,>=2.16 (from tensorflow<3,>=2.13.0->tensorflowjs)\n",
            "  Downloading tensorboard-2.16.2-py3-none-any.whl (5.5 MB)\n",
            "\u001b[2K     \u001b[90m━━━━━━━━━━━━━━━━━━━━━━━━━━━━━━━━━━━━━━━━\u001b[0m \u001b[32m5.5/5.5 MB\u001b[0m \u001b[31m54.1 MB/s\u001b[0m eta \u001b[36m0:00:00\u001b[0m\n",
            "\u001b[?25hCollecting keras>=3.0.0 (from tensorflow<3,>=2.13.0->tensorflowjs)\n",
            "  Downloading keras-3.3.3-py3-none-any.whl (1.1 MB)\n",
            "\u001b[2K     \u001b[90m━━━━━━━━━━━━━━━━━━━━━━━━━━━━━━━━━━━━━━━━\u001b[0m \u001b[32m1.1/1.1 MB\u001b[0m \u001b[31m33.6 MB/s\u001b[0m eta \u001b[36m0:00:00\u001b[0m\n",
            "\u001b[?25hCollecting namex (from keras>=3.0.0->tensorflow<3,>=2.13.0->tensorflowjs)\n",
            "  Downloading namex-0.0.8-py3-none-any.whl (5.8 kB)\n",
            "Collecting optree (from keras>=3.0.0->tensorflow<3,>=2.13.0->tensorflowjs)\n",
            "  Downloading optree-0.11.0-cp310-cp310-manylinux_2_17_x86_64.manylinux2014_x86_64.whl (311 kB)\n",
            "\u001b[2K     \u001b[90m━━━━━━━━━━━━━━━━━━━━━━━━━━━━━━━━━━━━━━━━\u001b[0m \u001b[32m311.2/311.2 kB\u001b[0m \u001b[31m24.1 MB/s\u001b[0m eta \u001b[36m0:00:00\u001b[0m\n",
            "\u001b[?25hRequirement already satisfied: charset-normalizer<4,>=2 in /usr/local/lib/python3.10/dist-packages (from requests<3,>=2.21.0->tensorflow<3,>=2.13.0->tensorflowjs) (3.3.2)\n",
            "Requirement already satisfied: idna<4,>=2.5 in /usr/local/lib/python3.10/dist-packages (from requests<3,>=2.21.0->tensorflow<3,>=2.13.0->tensorflowjs) (3.7)\n",
            "Requirement already satisfied: urllib3<3,>=1.21.1 in /usr/local/lib/python3.10/dist-packages (from requests<3,>=2.21.0->tensorflow<3,>=2.13.0->tensorflowjs) (2.0.7)\n",
            "Requirement already satisfied: certifi>=2017.4.17 in /usr/local/lib/python3.10/dist-packages (from requests<3,>=2.21.0->tensorflow<3,>=2.13.0->tensorflowjs) (2024.6.2)\n",
            "Requirement already satisfied: markdown-it-py>=2.2.0 in /usr/local/lib/python3.10/dist-packages (from rich>=11.1->flax>=0.7.2->tensorflowjs) (3.0.0)\n",
            "Requirement already satisfied: pygments<3.0.0,>=2.13.0 in /usr/local/lib/python3.10/dist-packages (from rich>=11.1->flax>=0.7.2->tensorflowjs) (2.16.1)\n",
            "Requirement already satisfied: markdown>=2.6.8 in /usr/local/lib/python3.10/dist-packages (from tensorboard<2.17,>=2.16->tensorflow<3,>=2.13.0->tensorflowjs) (3.6)\n",
            "Requirement already satisfied: tensorboard-data-server<0.8.0,>=0.7.0 in /usr/local/lib/python3.10/dist-packages (from tensorboard<2.17,>=2.16->tensorflow<3,>=2.13.0->tensorflowjs) (0.7.2)\n",
            "Requirement already satisfied: werkzeug>=1.0.1 in /usr/local/lib/python3.10/dist-packages (from tensorboard<2.17,>=2.16->tensorflow<3,>=2.13.0->tensorflowjs) (3.0.3)\n",
            "Requirement already satisfied: chex>=0.1.86 in /usr/local/lib/python3.10/dist-packages (from optax->flax>=0.7.2->tensorflowjs) (0.1.86)\n",
            "Requirement already satisfied: etils[epath,epy] in /usr/local/lib/python3.10/dist-packages (from orbax-checkpoint->flax>=0.7.2->tensorflowjs) (1.7.0)\n",
            "Requirement already satisfied: nest_asyncio in /usr/local/lib/python3.10/dist-packages (from orbax-checkpoint->flax>=0.7.2->tensorflowjs) (1.6.0)\n",
            "Requirement already satisfied: python-dateutil>=2.8.2 in /usr/local/lib/python3.10/dist-packages (from pandas->tensorflow-decision-forests>=1.5.0->tensorflowjs) (2.8.2)\n",
            "Requirement already satisfied: pytz>=2020.1 in /usr/local/lib/python3.10/dist-packages (from pandas->tensorflow-decision-forests>=1.5.0->tensorflowjs) (2023.4)\n",
            "Requirement already satisfied: tzdata>=2022.1 in /usr/local/lib/python3.10/dist-packages (from pandas->tensorflow-decision-forests>=1.5.0->tensorflowjs) (2024.1)\n",
            "Requirement already satisfied: toolz>=0.9.0 in /usr/local/lib/python3.10/dist-packages (from chex>=0.1.86->optax->flax>=0.7.2->tensorflowjs) (0.12.1)\n",
            "Requirement already satisfied: mdurl~=0.1 in /usr/local/lib/python3.10/dist-packages (from markdown-it-py>=2.2.0->rich>=11.1->flax>=0.7.2->tensorflowjs) (0.1.2)\n",
            "Requirement already satisfied: MarkupSafe>=2.1.1 in /usr/local/lib/python3.10/dist-packages (from werkzeug>=1.0.1->tensorboard<2.17,>=2.16->tensorflow<3,>=2.13.0->tensorflowjs) (2.1.5)\n",
            "Requirement already satisfied: fsspec in /usr/local/lib/python3.10/dist-packages (from etils[epath,epy]->orbax-checkpoint->flax>=0.7.2->tensorflowjs) (2023.6.0)\n",
            "Requirement already satisfied: zipp in /usr/local/lib/python3.10/dist-packages (from etils[epath,epy]->orbax-checkpoint->flax>=0.7.2->tensorflowjs) (3.19.1)\n",
            "Installing collected packages: namex, ydf, wurlitzer, packaging, optree, ml-dtypes, h5py, tensorboard, keras, tensorflow, tf-keras, tensorflow-decision-forests, tensorflowjs\n",
            "  Attempting uninstall: packaging\n",
            "    Found existing installation: packaging 24.0\n",
            "    Uninstalling packaging-24.0:\n",
            "      Successfully uninstalled packaging-24.0\n",
            "  Attempting uninstall: ml-dtypes\n",
            "    Found existing installation: ml-dtypes 0.2.0\n",
            "    Uninstalling ml-dtypes-0.2.0:\n",
            "      Successfully uninstalled ml-dtypes-0.2.0\n",
            "  Attempting uninstall: h5py\n",
            "    Found existing installation: h5py 3.9.0\n",
            "    Uninstalling h5py-3.9.0:\n",
            "      Successfully uninstalled h5py-3.9.0\n",
            "  Attempting uninstall: tensorboard\n",
            "    Found existing installation: tensorboard 2.15.2\n",
            "    Uninstalling tensorboard-2.15.2:\n",
            "      Successfully uninstalled tensorboard-2.15.2\n",
            "  Attempting uninstall: keras\n",
            "    Found existing installation: keras 2.15.0\n",
            "    Uninstalling keras-2.15.0:\n",
            "      Successfully uninstalled keras-2.15.0\n",
            "  Attempting uninstall: tensorflow\n",
            "    Found existing installation: tensorflow 2.15.0\n",
            "    Uninstalling tensorflow-2.15.0:\n",
            "      Successfully uninstalled tensorflow-2.15.0\n",
            "  Attempting uninstall: tf-keras\n",
            "    Found existing installation: tf_keras 2.15.1\n",
            "    Uninstalling tf_keras-2.15.1:\n",
            "      Successfully uninstalled tf_keras-2.15.1\n",
            "Successfully installed h5py-3.11.0 keras-3.3.3 ml-dtypes-0.3.2 namex-0.0.8 optree-0.11.0 packaging-23.2 tensorboard-2.16.2 tensorflow-2.16.1 tensorflow-decision-forests-1.9.1 tensorflowjs-4.20.0 tf-keras-2.16.0 wurlitzer-3.1.0 ydf-0.4.3\n"
          ]
        },
        {
          "output_type": "display_data",
          "data": {
            "application/vnd.colab-display-data+json": {
              "pip_warning": {
                "packages": [
                  "h5py",
                  "keras",
                  "ml_dtypes",
                  "tensorboard",
                  "tensorflow"
                ]
              },
              "id": "ecdc4d4d62c04ad5a5cde7f59b58dc67"
            }
          },
          "metadata": {}
        }
      ]
    },
    {
      "cell_type": "code",
      "source": [
        "!pip install nvidia-tensorrt"
      ],
      "metadata": {
        "colab": {
          "base_uri": "https://localhost:8080/"
        },
        "id": "8VX25kOxWrXe",
        "outputId": "5e53ed99-0b84-4581-c130-f562e7a4e38f"
      },
      "execution_count": null,
      "outputs": [
        {
          "output_type": "stream",
          "name": "stdout",
          "text": [
            "Collecting nvidia-tensorrt\n",
            "  Downloading nvidia_tensorrt-99.0.0-py3-none-manylinux_2_17_x86_64.whl (17 kB)\n",
            "Collecting tensorrt (from nvidia-tensorrt)\n",
            "  Downloading tensorrt-10.0.1.tar.gz (16 kB)\n",
            "  Preparing metadata (setup.py) ... \u001b[?25l\u001b[?25hdone\n",
            "Collecting tensorrt-cu12 (from tensorrt->nvidia-tensorrt)\n",
            "  Downloading tensorrt-cu12-10.0.1.tar.gz (18 kB)\n",
            "  Preparing metadata (setup.py) ... \u001b[?25l\u001b[?25hdone\n",
            "Building wheels for collected packages: tensorrt, tensorrt-cu12\n",
            "  Building wheel for tensorrt (setup.py) ... \u001b[?25l\u001b[?25hdone\n",
            "  Created wheel for tensorrt: filename=tensorrt-10.0.1-py2.py3-none-any.whl size=16331 sha256=0d5cae8407513c1bdc193f9212365617a3832cfec6316f715037b65c69e77ce7\n",
            "  Stored in directory: /root/.cache/pip/wheels/43/0e/35/f5de9a100ae769ece311b8f653e493f7e49bbcc25dcdc92e27\n",
            "  Building wheel for tensorrt-cu12 (setup.py) ... \u001b[?25l\u001b[?25hdone\n",
            "  Created wheel for tensorrt-cu12: filename=tensorrt_cu12-10.0.1-py2.py3-none-any.whl size=17551 sha256=a0ae01cf98adb64ba77f4f3f6691072e9f3ea89e189f6b47aef158255d49e256\n",
            "  Stored in directory: /root/.cache/pip/wheels/3d/65/7d/75f1bf55d7e57b0c82cb037d1d39d53851946315222eaf4c76\n",
            "Successfully built tensorrt tensorrt-cu12\n",
            "Installing collected packages: tensorrt-cu12, tensorrt, nvidia-tensorrt\n",
            "Successfully installed nvidia-tensorrt-99.0.0 tensorrt-10.0.1 tensorrt-cu12-10.0.1\n"
          ]
        }
      ]
    },
    {
      "cell_type": "code",
      "source": [
        "# Langkah 3: Konversi model ke format TensorFlow.js\n",
        "import tensorflowjs\n",
        "\n",
        "!tensorflowjs_converter --input_format=tf_saved_model --output_format=tfjs_graph_model saved_model output_directory"
      ],
      "metadata": {
        "colab": {
          "base_uri": "https://localhost:8080/"
        },
        "id": "LiyHLGe0Yg-X",
        "outputId": "fc7f1863-195b-4357-a4d5-d5db387c8b67"
      },
      "execution_count": null,
      "outputs": [
        {
          "output_type": "stream",
          "name": "stdout",
          "text": [
            "2024-06-12 03:05:55.425994: W tensorflow/compiler/tf2tensorrt/utils/py_utils.cc:38] TF-TRT Warning: Could not find TensorRT\n",
            "2024-06-12 03:05:58.948857: W tensorflow/core/common_runtime/gpu/gpu_bfc_allocator.cc:47] Overriding orig_value setting because the TF_FORCE_GPU_ALLOW_GROWTH environment variable is set. Original config value was 0.\n",
            "2024-06-12 03:05:59.877778: W external/local_tsl/tsl/framework/cpu_allocator_impl.cc:83] Allocation of 102760448 exceeds 10% of free system memory.\n",
            "2024-06-12 03:05:59.878475: W external/local_tsl/tsl/framework/cpu_allocator_impl.cc:83] Allocation of 102760448 exceeds 10% of free system memory.\n",
            "2024-06-12 03:05:59.882730: W external/local_tsl/tsl/framework/cpu_allocator_impl.cc:83] Allocation of 102760448 exceeds 10% of free system memory.\n",
            "2024-06-12 03:06:02.131334: W external/local_tsl/tsl/framework/cpu_allocator_impl.cc:83] Allocation of 102760448 exceeds 10% of free system memory.\n",
            "2024-06-12 03:06:11.092712: W external/local_tsl/tsl/framework/cpu_allocator_impl.cc:83] Allocation of 102760448 exceeds 10% of free system memory.\n",
            "WARNING:tensorflow:Didn't find expected Conv2D or DepthwiseConv2dNative input to 'StatefulPartitionedCall/sequential/batch_normalization/FusedBatchNormV3'\n",
            "WARNING:tensorflow:Didn't find expected Conv2D or DepthwiseConv2dNative input to 'StatefulPartitionedCall/sequential/batch_normalization_1/FusedBatchNormV3'\n",
            "WARNING:tensorflow:Didn't find expected Conv2D or DepthwiseConv2dNative input to 'StatefulPartitionedCall/sequential/batch_normalization_2/FusedBatchNormV3'\n",
            "WARNING:tensorflow:Didn't find expected Conv2D or DepthwiseConv2dNative input to 'StatefulPartitionedCall/sequential/batch_normalization_3/FusedBatchNormV3'\n"
          ]
        }
      ]
    },
    {
      "cell_type": "code",
      "source": [
        "!zip -r submission.zip output_directory/*.bin output_directory/model.json"
      ],
      "metadata": {
        "colab": {
          "base_uri": "https://localhost:8080/"
        },
        "id": "BIDsbVH6afVr",
        "outputId": "7dff3347-7b82-4a28-c12f-94f60f27fe51"
      },
      "execution_count": null,
      "outputs": [
        {
          "output_type": "stream",
          "name": "stdout",
          "text": [
            "  adding: output_directory/group1-shard10of25.bin (deflated 8%)\n",
            "  adding: output_directory/group1-shard11of25.bin (deflated 8%)\n",
            "  adding: output_directory/group1-shard12of25.bin (deflated 8%)\n",
            "  adding: output_directory/group1-shard13of25.bin (deflated 8%)\n",
            "  adding: output_directory/group1-shard14of25.bin (deflated 8%)\n",
            "  adding: output_directory/group1-shard15of25.bin (deflated 8%)\n",
            "  adding: output_directory/group1-shard16of25.bin (deflated 8%)\n",
            "  adding: output_directory/group1-shard17of25.bin (deflated 8%)\n",
            "  adding: output_directory/group1-shard18of25.bin (deflated 8%)\n",
            "  adding: output_directory/group1-shard19of25.bin (deflated 8%)\n",
            "  adding: output_directory/group1-shard1of25.bin (deflated 8%)\n",
            "  adding: output_directory/group1-shard20of25.bin (deflated 8%)\n",
            "  adding: output_directory/group1-shard21of25.bin (deflated 8%)\n",
            "  adding: output_directory/group1-shard22of25.bin (deflated 8%)\n",
            "  adding: output_directory/group1-shard23of25.bin (deflated 8%)\n",
            "  adding: output_directory/group1-shard24of25.bin (deflated 8%)\n",
            "  adding: output_directory/group1-shard25of25.bin (deflated 8%)\n",
            "  adding: output_directory/group1-shard2of25.bin (deflated 8%)\n",
            "  adding: output_directory/group1-shard3of25.bin (deflated 8%)\n",
            "  adding: output_directory/group1-shard4of25.bin (deflated 8%)\n",
            "  adding: output_directory/group1-shard5of25.bin (deflated 8%)\n",
            "  adding: output_directory/group1-shard6of25.bin (deflated 8%)\n",
            "  adding: output_directory/group1-shard7of25.bin (deflated 8%)\n",
            "  adding: output_directory/group1-shard8of25.bin (deflated 8%)\n",
            "  adding: output_directory/group1-shard9of25.bin (deflated 8%)\n",
            "  adding: output_directory/model.json (deflated 90%)\n"
          ]
        }
      ]
    },
    {
      "cell_type": "markdown",
      "source": [
        "#Pre-Trained ResNet50"
      ],
      "metadata": {
        "id": "6rmSmUr8pMCy"
      }
    },
    {
      "cell_type": "code",
      "source": [
        "from tensorflow.keras.applications import DenseNet201\n",
        "\n",
        "pre_trained_model = DenseNet201(include_top=False, input_shape=(224, 224, 3), weights='imagenet')\n",
        "\n",
        "freeze_index = None\n",
        "for i,layer in enumerate(pre_trained_model.layers):\n",
        "    if 'conv4' in layer._name:\n",
        "        freeze_index = i\n",
        "        break\n",
        "\n",
        "for layer in pre_trained_model.layers[:freeze_index]:\n",
        "    layer.trainable = False\n",
        "\n",
        "x = pre_trained_model.output\n",
        "x = tf.keras.layers.Flatten()(x)\n",
        "x = tf.keras.layers.Dense(64, activation='relu')(x)\n",
        "x = tf.keras.layers.Dense(64, activation='relu')(x)\n",
        "x = tf.keras.layers.Dense(128, activation='relu')(x)\n",
        "x = tf.keras.layers.Dropout(0.5)(x)\n",
        "outputs = tf.keras.layers.Dense(7, activation='softmax')(x)\n",
        "\n",
        "model = tf.keras.models.Model(pre_trained_model.input, outputs)\n",
        "\n",
        "model.compile(optimizer=tf.keras.optimizers.Adam(learning_rate=0.0001),\n",
        "                  loss='categorical_crossentropy' ,\n",
        "                  metrics=['accuracy'])"
      ],
      "metadata": {
        "id": "duLE-sG7pPCP"
      },
      "execution_count": null,
      "outputs": []
    },
    {
      "cell_type": "code",
      "source": [
        "history=model.fit(train_generator,epochs=5,validation_data=validation_generator)"
      ],
      "metadata": {
        "colab": {
          "base_uri": "https://localhost:8080/"
        },
        "id": "_fA34_aKpvG-",
        "outputId": "be129d2e-9829-4f2f-a333-ff5366736bd9"
      },
      "execution_count": null,
      "outputs": [
        {
          "output_type": "stream",
          "name": "stdout",
          "text": [
            "Epoch 1/5\n",
            "466/466 [==============================] - 302s 419ms/step - loss: 1.0525 - accuracy: 0.6126 - val_loss: 0.5690 - val_accuracy: 0.8080\n",
            "Epoch 2/5\n",
            "466/466 [==============================] - 192s 412ms/step - loss: 0.4306 - accuracy: 0.8613 - val_loss: 0.3493 - val_accuracy: 0.8749\n",
            "Epoch 3/5\n",
            "466/466 [==============================] - 191s 410ms/step - loss: 0.2486 - accuracy: 0.9253 - val_loss: 0.3030 - val_accuracy: 0.9002\n",
            "Epoch 4/5\n",
            "466/466 [==============================] - 191s 410ms/step - loss: 0.1632 - accuracy: 0.9513 - val_loss: 0.2837 - val_accuracy: 0.9130\n",
            "Epoch 5/5\n",
            "466/466 [==============================] - 193s 413ms/step - loss: 0.1298 - accuracy: 0.9629 - val_loss: 0.3330 - val_accuracy: 0.9073\n"
          ]
        }
      ]
    },
    {
      "cell_type": "code",
      "source": [
        "train_generator, validation_generator = train_val_generators(TRAINING_DIR, VALIDATION_DIR)\n",
        "\n",
        "print(\"kelas teren ughh:\")\n",
        "for class_label, index in train_generator.class_indices.items():\n",
        "    print(f\"{index}: {class_label}\")\n",
        "\n",
        "print(\"kelas validhhh ugh:\")\n",
        "for class_label, index in validation_generator.class_indices.items():\n",
        "    print(f\"{index}: {class_label}\")"
      ],
      "metadata": {
        "colab": {
          "base_uri": "https://localhost:8080/"
        },
        "id": "UBNP2NN1WkNC",
        "outputId": "6d5ddec5-675c-4657-eb4c-2975c77fa1c7"
      },
      "execution_count": null,
      "outputs": [
        {
          "output_type": "stream",
          "name": "stdout",
          "text": [
            "Found 14895 images belonging to 7 classes.\n",
            "Found 4219 images belonging to 7 classes.\n",
            "Class indices for train generator:\n",
            "0: akiec\n",
            "1: bcc\n",
            "2: bkl\n",
            "3: df\n",
            "4: mel\n",
            "5: nv\n",
            "6: vasc\n",
            "Class indices for validation generator:\n",
            "0: akiec\n",
            "1: bcc\n",
            "2: bkl\n",
            "3: df\n",
            "4: mel\n",
            "5: nv\n",
            "6: vasc\n"
          ]
        }
      ]
    },
    {
      "cell_type": "code",
      "source": [
        "from PIL import Image\n",
        "import numpy as np\n",
        "import matplotlib.pyplot as plt\n",
        "from tensorflow.keras.preprocessing import image\n",
        "from tensorflow.keras.applications.densenet import preprocess_input\n",
        "\n",
        "def predict_image(image_path):\n",
        "    img = Image.open(image_path)\n",
        "    img = img.resize((224, 224))\n",
        "    img_array = image.img_to_array(img)\n",
        "    img_array = np.expand_dims(img_array, axis=0)\n",
        "    img_array = preprocess_input(img_array)\n",
        "\n",
        "    predictions = model.predict(img_array)\n",
        "    predicted_class = np.argmax(predictions[0])\n",
        "\n",
        "    return predicted_class, predictions\n",
        "\n",
        "image_path = '/content/final/train/akiec/ISIC_0024418_jpg.rf.f2cf6c3663d55a9e8edcc267e43a3336.jpg'\n",
        "\n",
        "display_image = Image.open(image_path)\n",
        "plt.imshow(display_image)\n",
        "plt.axis('off')\n",
        "plt.show()\n",
        "\n",
        "predicted_class, predictions = predict_image(image_path)\n",
        "print(f'Predicted class: {predicted_class}')\n",
        "print(f'Prediction probabilities: {predictions}')"
      ],
      "metadata": {
        "colab": {
          "base_uri": "https://localhost:8080/",
          "height": 479
        },
        "id": "IDN0892MX5ov",
        "outputId": "f6350bbc-95fd-4375-fa11-1ccc401db8ab"
      },
      "execution_count": null,
      "outputs": [
        {
          "output_type": "display_data",
          "data": {
            "text/plain": [
              "<Figure size 640x480 with 1 Axes>"
            ],
            "image/png": "[encoded data removed]"
          },
          "metadata": {}
        },
        {
          "output_type": "stream",
          "name": "stdout",
          "text": [
            "1/1 [==============================] - 0s 36ms/step\n",
            "Predicted class: 4\n",
            "Prediction probabilities: [[9.4854313e-06 3.1744696e-07 2.5893263e-05 2.7527285e-08 9.9995661e-01\n",
            "  7.6280771e-06 3.4346780e-08]]\n"
          ]
        }
      ]
    },
    {
      "cell_type": "code",
      "source": [
        "from google.colab import files\n",
        "from PIL import Image\n",
        "import io\n",
        "from tensorflow.keras.preprocessing import image\n",
        "\n",
        "def predict_image(uploaded_image):\n",
        "    img = Image.open(io.BytesIO(uploaded_image))\n",
        "    img = img.resize((224, 224))\n",
        "    img_array = image.img_to_array(img)\n",
        "    img_array = np.expand_dims(img_array, axis=0)\n",
        "    img_array = preprocess_input(img_array)\n",
        "\n",
        "    predictions = model.predict(img_array)\n",
        "    predicted_class = np.argmax(predictions[0])\n",
        "\n",
        "    return predicted_class, predictions\n",
        "\n",
        "uploaded = files.upload()\n",
        "for fn in uploaded.keys():\n",
        "    display_image = Image.open(io.BytesIO(uploaded[fn]))\n",
        "    plt.imshow(display_image)\n",
        "    plt.axis('off')\n",
        "    plt.show()\n",
        "\n",
        "    predicted_class, predictions = predict_image(uploaded[fn])\n",
        "    print(f'Predicted class: {predicted_class}')\n",
        "    print(f'Prediction probabilities: {predictions}')"
      ],
      "metadata": {
        "colab": {
          "base_uri": "https://localhost:8080/",
          "height": 535
        },
        "id": "FSAr0_njKlkZ",
        "outputId": "65ebe0ff-4a14-4a1b-e382-120951bdc927"
      },
      "execution_count": null,
      "outputs": [
        {
          "output_type": "display_data",
          "data": {
            "text/plain": [
              "<IPython.core.display.HTML object>"
            ],
            "text/html": [
              "\n",
              "     <input type=\"file\" id=\"files-7fd859dc-3c5b-4fc5-82f9-dbc3348b261d\" name=\"files[]\" multiple disabled\n",
              "        style=\"border:none\" />\n",
              "     <output id=\"result-7fd859dc-3c5b-4fc5-82f9-dbc3348b261d\">\n",
              "      Upload widget is only available when the cell has been executed in the\n",
              "      current browser session. Please rerun this cell to enable.\n",
              "      </output>\n",
              "      <script>// Copyright 2017 Google LLC\n",
              "//\n",
              "// Licensed under the Apache License, Version 2.0 (the \"License\");\n",
              "// you may not use this file except in compliance with the License.\n",
              "// You may obtain a copy of the License at\n",
              "//\n",
              "//      http://www.apache.org/licenses/LICENSE-2.0\n",
              "//\n",
              "// Unless required by applicable law or agreed to in writing, software\n",
              "// distributed under the License is distributed on an \"AS IS\" BASIS,\n",
              "// WITHOUT WARRANTIES OR CONDITIONS OF ANY KIND, either express or implied.\n",
              "// See the License for the specific language governing permissions and\n",
              "// limitations under the License.\n",
              "\n",
              "/**\n",
              " * @fileoverview Helpers for google.colab Python module.\n",
              " */\n",
              "(function(scope) {\n",
              "function span(text, styleAttributes = {}) {\n",
              "  const element = document.createElement('span');\n",
              "  element.textContent = text;\n",
              "  for (const key of Object.keys(styleAttributes)) {\n",
              "    element.style[key] = styleAttributes[key];\n",
              "  }\n",
              "  return element;\n",
              "}\n",
              "\n",
              "// Max number of bytes which will be uploaded at a time.\n",
              "const MAX_PAYLOAD_SIZE = 100 * 1024;\n",
              "\n",
              "function _uploadFiles(inputId, outputId) {\n",
              "  const steps = uploadFilesStep(inputId, outputId);\n",
              "  const outputElement = document.getElementById(outputId);\n",
              "  // Cache steps on the outputElement to make it available for the next call\n",
              "  // to uploadFilesContinue from Python.\n",
              "  outputElement.steps = steps;\n",
              "\n",
              "  return _uploadFilesContinue(outputId);\n",
              "}\n",
              "\n",
              "// This is roughly an async generator (not supported in the browser yet),\n",
              "// where there are multiple asynchronous steps and the Python side is going\n",
              "// to poll for completion of each step.\n",
              "// This uses a Promise to block the python side on completion of each step,\n",
              "// then passes the result of the previous step as the input to the next step.\n",
              "function _uploadFilesContinue(outputId) {\n",
              "  const outputElement = document.getElementById(outputId);\n",
              "  const steps = outputElement.steps;\n",
              "\n",
              "  const next = steps.next(outputElement.lastPromiseValue);\n",
              "  return Promise.resolve(next.value.promise).then((value) => {\n",
              "    // Cache the last promise value to make it available to the next\n",
              "    // step of the generator.\n",
              "    outputElement.lastPromiseValue = value;\n",
              "    return next.value.response;\n",
              "  });\n",
              "}\n",
              "\n",
              "/**\n",
              " * Generator function which is called between each async step of the upload\n",
              " * process.\n",
              " * @param {string} inputId Element ID of the input file picker element.\n",
              " * @param {string} outputId Element ID of the output display.\n",
              " * @return {!Iterable<!Object>} Iterable of next steps.\n",
              " */\n",
              "function* uploadFilesStep(inputId, outputId) {\n",
              "  const inputElement = document.getElementById(inputId);\n",
              "  inputElement.disabled = false;\n",
              "\n",
              "  const outputElement = document.getElementById(outputId);\n",
              "  outputElement.innerHTML = '';\n",
              "\n",
              "  const pickedPromise = new Promise((resolve) => {\n",
              "    inputElement.addEventListener('change', (e) => {\n",
              "      resolve(e.target.files);\n",
              "    });\n",
              "  });\n",
              "\n",
              "  const cancel = document.createElement('button');\n",
              "  inputElement.parentElement.appendChild(cancel);\n",
              "  cancel.textContent = 'Cancel upload';\n",
              "  const cancelPromise = new Promise((resolve) => {\n",
              "    cancel.onclick = () => {\n",
              "      resolve(null);\n",
              "    };\n",
              "  });\n",
              "\n",
              "  // Wait for the user to pick the files.\n",
              "  const files = yield {\n",
              "    promise: Promise.race([pickedPromise, cancelPromise]),\n",
              "    response: {\n",
              "      action: 'starting',\n",
              "    }\n",
              "  };\n",
              "\n",
              "  cancel.remove();\n",
              "\n",
              "  // Disable the input element since further picks are not allowed.\n",
              "  inputElement.disabled = true;\n",
              "\n",
              "  if (!files) {\n",
              "    return {\n",
              "      response: {\n",
              "        action: 'complete',\n",
              "      }\n",
              "    };\n",
              "  }\n",
              "\n",
              "  for (const file of files) {\n",
              "    const li = document.createElement('li');\n",
              "    li.append(span(file.name, {fontWeight: 'bold'}));\n",
              "    li.append(span(\n",
              "        `(${file.type || 'n/a'}) - ${file.size} bytes, ` +\n",
              "        `last modified: ${\n",
              "            file.lastModifiedDate ? file.lastModifiedDate.toLocaleDateString() :\n",
              "                                    'n/a'} - `));\n",
              "    const percent = span('0% done');\n",
              "    li.appendChild(percent);\n",
              "\n",
              "    outputElement.appendChild(li);\n",
              "\n",
              "    const fileDataPromise = new Promise((resolve) => {\n",
              "      const reader = new FileReader();\n",
              "      reader.onload = (e) => {\n",
              "        resolve(e.target.result);\n",
              "      };\n",
              "      reader.readAsArrayBuffer(file);\n",
              "    });\n",
              "    // Wait for the data to be ready.\n",
              "    let fileData = yield {\n",
              "      promise: fileDataPromise,\n",
              "      response: {\n",
              "        action: 'continue',\n",
              "      }\n",
              "    };\n",
              "\n",
              "    // Use a chunked sending to avoid message size limits. See b/62115660.\n",
              "    let position = 0;\n",
              "    do {\n",
              "      const length = Math.min(fileData.byteLength - position, MAX_PAYLOAD_SIZE);\n",
              "      const chunk = new Uint8Array(fileData, position, length);\n",
              "      position += length;\n",
              "\n",
              "      const base64 = btoa(String.fromCharCode.apply(null, chunk));\n",
              "      yield {\n",
              "        response: {\n",
              "          action: 'append',\n",
              "          file: file.name,\n",
              "          data: base64,\n",
              "        },\n",
              "      };\n",
              "\n",
              "      let percentDone = fileData.byteLength === 0 ?\n",
              "          100 :\n",
              "          Math.round((position / fileData.byteLength) * 100);\n",
              "      percent.textContent = `${percentDone}% done`;\n",
              "\n",
              "    } while (position < fileData.byteLength);\n",
              "  }\n",
              "\n",
              "  // All done.\n",
              "  yield {\n",
              "    response: {\n",
              "      action: 'complete',\n",
              "    }\n",
              "  };\n",
              "}\n",
              "\n",
              "scope.google = scope.google || {};\n",
              "scope.google.colab = scope.google.colab || {};\n",
              "scope.google.colab._files = {\n",
              "  _uploadFiles,\n",
              "  _uploadFilesContinue,\n",
              "};\n",
              "})(self);\n",
              "</script> "
            ]
          },
          "metadata": {}
        },
        {
          "output_type": "stream",
          "name": "stdout",
          "text": [
            "Saving ISIC_0025452_jpg.rf.74ad2fe6e326165e82c0bff5846cecce.jpg to ISIC_0025452_jpg.rf.74ad2fe6e326165e82c0bff5846cecce.jpg\n"
          ]
        },
        {
          "output_type": "display_data",
          "data": {
            "text/plain": [
              "<Figure size 640x480 with 1 Axes>"
            ],
            "image/png": "[encoded data removed]"
          },
          "metadata": {}
        },
        {
          "output_type": "stream",
          "name": "stdout",
          "text": [
            "1/1 [==============================] - 0s 34ms/step\n",
            "Predicted class: 6\n",
            "Prediction probabilities: [[2.3752820e-15 5.5767339e-11 6.7133923e-11 6.0773735e-16 1.1945618e-09\n",
            "  2.5877727e-16 1.0000000e+00]]\n"
          ]
        }
      ]
    },
    {
      "cell_type": "markdown",
      "source": [
        "# Pre-Trained InceptionV3\n"
      ],
      "metadata": {
        "id": "072TwmvVYY8z"
      }
    },
    {
      "cell_type": "code",
      "source": [
        "from keras.applications import InceptionV3\n",
        "\n",
        "pre_trained_model = InceptionV3(include_top=False, input_shape=(224, 224, 3), weights='imagenet')\n",
        "\n",
        "freeze_index = None\n",
        "for i,layer in enumerate(pre_trained_model.layers):\n",
        "    if 'conv4' in layer._name:\n",
        "        freeze_index = i\n",
        "        break\n",
        "\n",
        "for layer in pre_trained_model.layers[:freeze_index]:\n",
        "    layer.trainable = False\n",
        "\n",
        "x = pre_trained_model.output\n",
        "x = tf.keras.layers.Flatten()(x)\n",
        "x = tf.keras.layers.Dense(512, activation='relu')(x)\n",
        "x = tf.keras.layers.Dropout(0.5)(x)\n",
        "x = tf.keras.layers.Dense(1024, activation='relu')(x)\n",
        "x = tf.keras.layers.Dropout(0.5)(x)\n",
        "outputs = tf.keras.layers.Dense(7, activation='softmax')(x)\n",
        "\n",
        "model = tf.keras.models.Model(pre_trained_model.input, outputs)\n",
        "\n",
        "model.compile(optimizer=tf.keras.optimizers.Adam(learning_rate=0.0001),\n",
        "                  loss='categorical_crossentropy',\n",
        "                  metrics=['accuracy'])"
      ],
      "metadata": {
        "id": "OdkXqcddYbyx"
      },
      "execution_count": null,
      "outputs": []
    },
    {
      "cell_type": "markdown",
      "metadata": {
        "id": "ZzXrIqUcWkwG"
      },
      "source": [
        "# Manual Architecture"
      ]
    },
    {
      "cell_type": "code",
      "execution_count": null,
      "metadata": {
        "colab": {
          "base_uri": "https://localhost:8080/"
        },
        "id": "1rhGalc_i9kV",
        "outputId": "d3bf04a0-d505-4431-de81-7feb4052ea9e"
      },
      "outputs": [
        {
          "output_type": "stream",
          "name": "stdout",
          "text": [
            "Model: \"sequential_1\"\n",
            "_________________________________________________________________\n",
            " Layer (type)                Output Shape              Param #   \n",
            "=================================================================\n",
            " vgg16 (Functional)          (None, 512)               14714688  \n",
            "                                                                 \n",
            " dense_4 (Dense)             (None, 32)                16416     \n",
            "                                                                 \n",
            " dense_5 (Dense)             (None, 64)                2112      \n",
            "                                                                 \n",
            " dense_6 (Dense)             (None, 128)               8320      \n",
            "                                                                 \n",
            " dropout_1 (Dropout)         (None, 128)               0         \n",
            "                                                                 \n",
            " dense_7 (Dense)             (None, 7)                 903       \n",
            "                                                                 \n",
            "=================================================================\n",
            "Total params: 14742439 (56.24 MB)\n",
            "Trainable params: 27751 (108.40 KB)\n",
            "Non-trainable params: 14714688 (56.13 MB)\n",
            "_________________________________________________________________\n"
          ]
        }
      ],
      "source": [
        "def create_model():\n",
        "    base_model = VGG16(weights='imagenet', include_top=False, pooling='avg')\n",
        "    base_model.trainable = False\n",
        "\n",
        "    model = tf.keras.models.Sequential([\n",
        "        base_model,\n",
        "        Dense(32, activation='relu'),\n",
        "        Dense(64, activation='relu'),\n",
        "        Dense(128, activation='relu'),\n",
        "        Dropout(0.5),\n",
        "        Dense(7, activation='softmax')\n",
        "    ])\n",
        "\n",
        "    return model\n",
        "model = create_model()\n",
        "model.summary()"
      ]
    },
    {
      "cell_type": "code",
      "execution_count": null,
      "metadata": {
        "id": "Kjgi0zFhkPAH"
      },
      "outputs": [],
      "source": [
        "model.compile(optimizer='sgd',loss='categorical_crossentropy',metrics=['accuracy'])"
      ]
    },
    {
      "cell_type": "code",
      "execution_count": null,
      "metadata": {
        "id": "dS-rSKZkkSV_"
      },
      "outputs": [],
      "source": [
        "\n",
        "steps_per_epoch_training = len(train_generator)\n",
        "steps_per_epoch_validation = len(validation_generator)\n",
        "num_epochs = 2\n"
      ]
    },
    {
      "cell_type": "code",
      "execution_count": null,
      "metadata": {
        "colab": {
          "base_uri": "https://localhost:8080/"
        },
        "id": "5iftqi1Hkbg-",
        "outputId": "2af1b57c-0c6f-4107-82ff-f2db8a3fd542"
      },
      "outputs": [
        {
          "output_type": "stream",
          "name": "stdout",
          "text": [
            "Epoch 1/20\n",
            "149/149 [==============================] - 53s 324ms/step - loss: 1.6099 - accuracy: 0.3950 - val_loss: 1.1279 - val_accuracy: 0.5973\n",
            "Epoch 2/20\n",
            "149/149 [==============================] - 46s 307ms/step - loss: 1.2401 - accuracy: 0.5317 - val_loss: 1.0108 - val_accuracy: 0.6288\n",
            "Epoch 3/20\n",
            "149/149 [==============================] - 47s 317ms/step - loss: 1.0825 - accuracy: 0.5954 - val_loss: 0.9367 - val_accuracy: 0.6539\n",
            "Epoch 4/20\n",
            "149/149 [==============================] - 46s 307ms/step - loss: 0.9559 - accuracy: 0.6456 - val_loss: 0.8495 - val_accuracy: 0.6829\n",
            "Epoch 5/20\n",
            "149/149 [==============================] - 47s 312ms/step - loss: 0.8772 - accuracy: 0.6724 - val_loss: 0.8268 - val_accuracy: 0.6907\n",
            "Epoch 6/20\n",
            "149/149 [==============================] - 47s 316ms/step - loss: 0.8071 - accuracy: 0.7033 - val_loss: 0.7856 - val_accuracy: 0.7118\n",
            "Epoch 7/20\n",
            "149/149 [==============================] - 46s 309ms/step - loss: 0.7327 - accuracy: 0.7296 - val_loss: 0.7760 - val_accuracy: 0.7182\n",
            "Epoch 8/20\n",
            "149/149 [==============================] - 47s 312ms/step - loss: 0.6710 - accuracy: 0.7527 - val_loss: 0.7726 - val_accuracy: 0.7101\n",
            "Epoch 9/20\n",
            "149/149 [==============================] - 47s 314ms/step - loss: 0.6321 - accuracy: 0.7673 - val_loss: 0.7610 - val_accuracy: 0.7213\n",
            "Epoch 10/20\n",
            "149/149 [==============================] - 47s 314ms/step - loss: 0.5691 - accuracy: 0.7917 - val_loss: 0.7637 - val_accuracy: 0.7315\n",
            "Epoch 11/20\n",
            "149/149 [==============================] - 47s 312ms/step - loss: 0.5515 - accuracy: 0.7956 - val_loss: 0.7356 - val_accuracy: 0.7338\n",
            "Epoch 12/20\n",
            "149/149 [==============================] - 46s 309ms/step - loss: 0.4795 - accuracy: 0.8213 - val_loss: 0.7609 - val_accuracy: 0.7291\n",
            "Epoch 13/20\n",
            "125/149 [========================>.....] - ETA: 5s - loss: 0.4722 - accuracy: 0.8282"
          ]
        }
      ],
      "source": [
        "history=model.fit(train_generator,epochs=20,validation_data=validation_generator)"
      ]
    },
    {
      "cell_type": "code",
      "execution_count": null,
      "metadata": {
        "colab": {
          "base_uri": "https://localhost:8080/"
        },
        "id": "X2p9Y-uqE_HG",
        "outputId": "64fc24f2-c5e7-4a95-d8f2-efa6ac8cfab0"
      },
      "outputs": [
        {
          "name": "stdout",
          "output_type": "stream",
          "text": [
            "Epoch 1/100\n",
            "503/503 [==============================] - 51s 90ms/step - loss: 1.7710 - accuracy: 0.4208 - val_loss: 1.8472 - val_accuracy: 0.4051\n",
            "Epoch 2/100\n",
            "503/503 [==============================] - 44s 87ms/step - loss: 1.3969 - accuracy: 0.4791 - val_loss: 1.3766 - val_accuracy: 0.4719\n",
            "Epoch 3/100\n",
            "503/503 [==============================] - 45s 89ms/step - loss: 1.3057 - accuracy: 0.5144 - val_loss: 1.3084 - val_accuracy: 0.5164\n",
            "Epoch 4/100\n",
            "503/503 [==============================] - 44s 88ms/step - loss: 1.2154 - accuracy: 0.5363 - val_loss: 1.2999 - val_accuracy: 0.5312\n",
            "Epoch 5/100\n",
            "503/503 [==============================] - 46s 91ms/step - loss: 1.1430 - accuracy: 0.5711 - val_loss: 1.2627 - val_accuracy: 0.5212\n",
            "Epoch 6/100\n",
            "503/503 [==============================] - 44s 87ms/step - loss: 1.0782 - accuracy: 0.5886 - val_loss: 1.1807 - val_accuracy: 0.5470\n",
            "Epoch 7/100\n",
            "503/503 [==============================] - 45s 90ms/step - loss: 1.0257 - accuracy: 0.6103 - val_loss: 1.1762 - val_accuracy: 0.5739\n",
            "Epoch 8/100\n",
            "503/503 [==============================] - 45s 88ms/step - loss: 0.9541 - accuracy: 0.6321 - val_loss: 1.1195 - val_accuracy: 0.5760\n",
            "Epoch 9/100\n",
            "503/503 [==============================] - 44s 88ms/step - loss: 0.8989 - accuracy: 0.6561 - val_loss: 1.1015 - val_accuracy: 0.6008\n",
            "Epoch 10/100\n",
            "503/503 [==============================] - 45s 89ms/step - loss: 0.8263 - accuracy: 0.6825 - val_loss: 1.1204 - val_accuracy: 0.5773\n",
            "Epoch 11/100\n",
            "503/503 [==============================] - 44s 88ms/step - loss: 0.7644 - accuracy: 0.7058 - val_loss: 1.1375 - val_accuracy: 0.5784\n",
            "Epoch 12/100\n",
            "503/503 [==============================] - 45s 88ms/step - loss: 0.7123 - accuracy: 0.7262 - val_loss: 1.2365 - val_accuracy: 0.5839\n",
            "Epoch 13/100\n",
            "503/503 [==============================] - 44s 87ms/step - loss: 0.6301 - accuracy: 0.7527 - val_loss: 1.1066 - val_accuracy: 0.5980\n",
            "Epoch 14/100\n",
            "503/503 [==============================] - 45s 89ms/step - loss: 0.5800 - accuracy: 0.7768 - val_loss: 1.1914 - val_accuracy: 0.6066\n",
            "Epoch 15/100\n",
            "503/503 [==============================] - 44s 87ms/step - loss: 0.5367 - accuracy: 0.7960 - val_loss: 1.2501 - val_accuracy: 0.5866\n",
            "Epoch 16/100\n",
            "503/503 [==============================] - 45s 89ms/step - loss: 0.4573 - accuracy: 0.8256 - val_loss: 1.2305 - val_accuracy: 0.6049\n",
            "Epoch 17/100\n",
            "503/503 [==============================] - 44s 88ms/step - loss: 0.4168 - accuracy: 0.8432 - val_loss: 1.2725 - val_accuracy: 0.6094\n",
            "Epoch 18/100\n",
            "503/503 [==============================] - 45s 88ms/step - loss: 0.3688 - accuracy: 0.8622 - val_loss: 1.3549 - val_accuracy: 0.5987\n",
            "Epoch 19/100\n",
            "503/503 [==============================] - 44s 88ms/step - loss: 0.3355 - accuracy: 0.8746 - val_loss: 1.4355 - val_accuracy: 0.6090\n",
            "Epoch 20/100\n",
            "503/503 [==============================] - 44s 88ms/step - loss: 0.2982 - accuracy: 0.8877 - val_loss: 1.3135 - val_accuracy: 0.6114\n",
            "Epoch 21/100\n",
            "503/503 [==============================] - 44s 87ms/step - loss: 0.2674 - accuracy: 0.8995 - val_loss: 1.3745 - val_accuracy: 0.6194\n",
            "Epoch 22/100\n",
            "503/503 [==============================] - 45s 90ms/step - loss: 0.2569 - accuracy: 0.9070 - val_loss: 1.3675 - val_accuracy: 0.6225\n",
            "Epoch 23/100\n",
            "503/503 [==============================] - 44s 87ms/step - loss: 0.2183 - accuracy: 0.9194 - val_loss: 1.4319 - val_accuracy: 0.6176\n",
            "Epoch 24/100\n",
            "503/503 [==============================] - 44s 87ms/step - loss: 0.2042 - accuracy: 0.9255 - val_loss: 1.8123 - val_accuracy: 0.5842\n",
            "Epoch 25/100\n",
            "503/503 [==============================] - 44s 87ms/step - loss: 0.1918 - accuracy: 0.9308 - val_loss: 1.6372 - val_accuracy: 0.6101\n",
            "Epoch 26/100\n",
            "503/503 [==============================] - 45s 89ms/step - loss: 0.1959 - accuracy: 0.9295 - val_loss: 1.4743 - val_accuracy: 0.6214\n",
            "Epoch 27/100\n",
            "503/503 [==============================] - 45s 89ms/step - loss: 0.1886 - accuracy: 0.9331 - val_loss: 2.2080 - val_accuracy: 0.5532\n",
            "Epoch 28/100\n",
            "503/503 [==============================] - 45s 90ms/step - loss: 0.1678 - accuracy: 0.9402 - val_loss: 1.4926 - val_accuracy: 0.6169\n",
            "Epoch 29/100\n",
            "503/503 [==============================] - 44s 88ms/step - loss: 0.1397 - accuracy: 0.9509 - val_loss: 1.6310 - val_accuracy: 0.6276\n",
            "Epoch 30/100\n",
            "503/503 [==============================] - 44s 87ms/step - loss: 0.1367 - accuracy: 0.9522 - val_loss: 1.7446 - val_accuracy: 0.6059\n",
            "Epoch 31/100\n",
            "503/503 [==============================] - 44s 88ms/step - loss: 0.1583 - accuracy: 0.9437 - val_loss: 1.7568 - val_accuracy: 0.6011\n",
            "Epoch 32/100\n",
            "478/503 [===========================>..] - ETA: 1s - loss: 0.1212 - accuracy: 0.9571"
          ]
        }
      ],
      "source": [
        "num_classes = len(train_generator.class_indices)\n",
        "\n",
        "def create_model(num_classes):\n",
        "    model = tf.keras.models.Sequential([\n",
        "        tf.keras.layers.Conv2D(32, 3, padding='same', activation='relu', input_shape=(224, 224, 3)),\n",
        "        tf.keras.layers.BatchNormalization(),\n",
        "        tf.keras.layers.MaxPooling2D(),\n",
        "        tf.keras.layers.Conv2D(64, 3, padding='same', activation='relu'),\n",
        "        tf.keras.layers.BatchNormalization(),\n",
        "        tf.keras.layers.MaxPooling2D(),\n",
        "        tf.keras.layers.Conv2D(128, 3, padding='same', activation='relu'),\n",
        "        tf.keras.layers.BatchNormalization(),\n",
        "        tf.keras.layers.MaxPooling2D(),\n",
        "        tf.keras.layers.Conv2D(256, 3, padding='same', activation='relu'),\n",
        "        tf.keras.layers.BatchNormalization(),\n",
        "        tf.keras.layers.MaxPooling2D(),\n",
        "        tf.keras.layers.Flatten(),\n",
        "        tf.keras.layers.Dense(512, activation='relu'),\n",
        "        tf.keras.layers.Dropout(0.5),\n",
        "        tf.keras.layers.Dense(num_classes, activation='softmax')\n",
        "    ])\n",
        "\n",
        "    model.compile(optimizer=tf.keras.optimizers.Adam(learning_rate=0.0001),\n",
        "                  loss=tf.keras.losses.CategoricalCrossentropy(),\n",
        "                  metrics=['accuracy'])\n",
        "\n",
        "    return model\n",
        "\n",
        "# Create model\n",
        "model = create_model(num_classes)\n",
        "\n",
        "# Train model\n",
        "history = model.fit(train_generator,\n",
        "                    epochs=100,\n",
        "                    verbose=1,\n",
        "                    validation_data=validation_generator)"
      ]
    },
    {
      "cell_type": "markdown",
      "metadata": {
        "id": "lGzopauwWtES"
      },
      "source": [
        "### Train"
      ]
    },
    {
      "cell_type": "code",
      "execution_count": null,
      "metadata": {
        "id": "64590nZXFb25"
      },
      "outputs": [],
      "source": [
        "model = create_model()\n",
        "history = model.fit(train_generator,\n",
        "                    epochs=20,\n",
        "                    verbose=1,\n",
        "                    validation_data=validation_generator)"
      ]
    },
    {
      "cell_type": "code",
      "execution_count": null,
      "metadata": {
        "id": "kI3g1pGXneCE"
      },
      "outputs": [],
      "source": [
        "acc      = history.history[     'accuracy' ]\n",
        "val_acc  = history.history[ 'val_accuracy' ]\n",
        "loss     = history.history[    'loss' ]\n",
        "val_loss = history.history['val_loss' ]\n",
        "\n",
        "epochs   = range(len(acc)) # Get number of epochs\n",
        "\n",
        "plt.plot  ( epochs, acc, label='Training')\n",
        "plt.plot  ( epochs, val_acc, label='Validation')\n",
        "plt.title ('Training and validation accuracy')\n",
        "plt.legend()\n",
        "plt.figure()\n",
        "\n",
        "plt.plot  ( epochs, loss, label='Training')\n",
        "plt.plot  ( epochs, val_loss, label='Validation')\n",
        "plt.legend()\n",
        "plt.title ('Training and validation loss')"
      ]
    },
    {
      "cell_type": "markdown",
      "metadata": {
        "id": "LMOViM-IWvh4"
      },
      "source": [
        "### Saved Model"
      ]
    },
    {
      "cell_type": "code",
      "execution_count": null,
      "metadata": {
        "id": "-ZB9cJ4ZfzzM"
      },
      "outputs": [],
      "source": [
        "# Save the model\n",
        "saved_model_path = \"./model.h5\"\n",
        "model.save(saved_model_path)"
      ]
    },
    {
      "cell_type": "code",
      "execution_count": null,
      "metadata": {
        "id": "Ka_mjGhwf0PS"
      },
      "outputs": [],
      "source": [
        "# Convert the Keras model to TFLite model\n",
        "model = tf.keras.models.load_model(saved_model_path)\n",
        "converter = tf.lite.TFLiteConverter.from_keras_model(model)\n",
        "tflite_model = converter.convert()\n",
        "open(\"converted_model.tflite\", \"wb\").write(tflite_model)"
      ]
    },
    {
      "cell_type": "markdown",
      "metadata": {
        "id": "ZF_z76tbW1bo"
      },
      "source": [
        "### Convert to TFLITE"
      ]
    },
    {
      "cell_type": "code",
      "execution_count": null,
      "metadata": {
        "id": "fXjnC2JFgB7j"
      },
      "outputs": [],
      "source": [
        "!pip install tflite-support &> /dev/null\n",
        "!pip uninstall tensorflow\n",
        "!pip install tensorflow==\"2.13.0\" &> /dev/null"
      ]
    },
    {
      "cell_type": "code",
      "execution_count": null,
      "metadata": {
        "id": "WHSUzuA7f2iM"
      },
      "outputs": [],
      "source": [
        "from tflite_support.metadata_writers import writer_utils\n",
        "from tflite_support.metadata_writers import image_classifier\n",
        "from tflite_support import metadata"
      ]
    },
    {
      "cell_type": "code",
      "execution_count": null,
      "metadata": {
        "id": "ARQZUZITf-ug"
      },
      "outputs": [],
      "source": [
        "# Paths for TFLite model and metadata\n",
        "TFLITE_MODEL_PATH = 'converted_model.tflite'\n",
        "MODEL_WITH_METADATA_PATH = 'model_with_metadata.tflite'\n",
        "\n",
        "# Ingat untuk selalu diganti sama label penyakit yang ditrain!\n",
        "labels = [\"Atopic Dermatitis\", \"Monkeypox\", \"Psoriasis\", \"Tinea Ringworm\", \"Warts Molluscum\"]\n",
        "\n",
        "# Save labels to a temporary file\n",
        "LABEL_FILE = 'labels.txt'\n",
        "with open(LABEL_FILE, 'w') as f:\n",
        "    for label in labels:\n",
        "        f.write(f\"{label}\\n\")\n",
        "\n",
        "# Create an ImageClassifierWriter with normalization options\n",
        "writer = image_classifier.MetadataWriter.create_for_inference(\n",
        "    model_buffer=writer_utils.load_file(TFLITE_MODEL_PATH),\n",
        "    input_norm_mean=[127.5],  # Normalization mean\n",
        "    input_norm_std=[127.5],   # Normalization std\n",
        "    label_file_paths=[LABEL_FILE]\n",
        ")\n",
        "\n",
        "# Populate metadata in the model\n",
        "model_with_metadata = writer.populate()\n",
        "\n",
        "# Save the model with metadata\n",
        "writer_utils.save_file(model_with_metadata, MODEL_WITH_METADATA_PATH)\n",
        "\n",
        "# Verify the metadata\n",
        "displayer = metadata.MetadataDisplayer.with_model_file(MODEL_WITH_METADATA_PATH)\n",
        "print(\"Metadata populated:\")\n",
        "print(displayer.get_metadata_json())\n",
        "print(\"Associated file(s) populated:\")\n",
        "print(displayer.get_packed_associated_file_list())"
      ]
    },
    {
      "cell_type": "markdown",
      "metadata": {
        "id": "XlclfnT5U4ja"
      },
      "source": [
        "## RestNet MODEL"
      ]
    },
    {
      "cell_type": "code",
      "execution_count": null,
      "metadata": {
        "id": "yG1_oisNU908"
      },
      "outputs": [],
      "source": [
        "import tensorflow as tf\n",
        "from tensorflow.keras.applications import ResNet50\n",
        "from tensorflow.keras.layers import Flatten, Dense, Conv2D, MaxPooling2D, Dropout\n",
        "from tensorflow.keras.models import Sequential"
      ]
    },
    {
      "cell_type": "code",
      "execution_count": null,
      "metadata": {
        "id": "5uVp8ZV7U8AO"
      },
      "outputs": [],
      "source": [
        "pretrained_model = ResNet50(include_top=False, input_shape=(150, 150, 3), weights='imagenet')\n",
        "pretrained_model.trainable = False\n",
        "\n",
        "resnet_model = Sequential()\n",
        "resnet_model.add(pretrained_model)\n",
        "resnet_model.add(Conv2D(32, (3, 3), activation='relu', padding='same'))\n",
        "resnet_model.add(MaxPooling2D())\n",
        "resnet_model.add(Conv2D(16, (3, 3), activation='relu', padding='same'))\n",
        "resnet_model.add(MaxPooling2D())\n",
        "resnet_model.add(Flatten())\n",
        "resnet_model.add(Dense(512, activation='relu'))\n",
        "resnet_model.add(Dropout(0.5))\n",
        "resnet_model.add(Dense(3, activation='softmax'))\n",
        "\n",
        "resnet_model.compile(optimizer='adam',\n",
        "                  loss=tf.keras.losses.CategoricalCrossentropy(),\n",
        "                  metrics=['accuracy'])\n",
        "\n",
        "resnet_model.summary()"
      ]
    },
    {
      "cell_type": "code",
      "execution_count": null,
      "metadata": {
        "id": "VnYMNPDEVKoo"
      },
      "outputs": [],
      "source": [
        "epochs=2\n",
        "history = resnet_model.fit(\n",
        "  train_generator,\n",
        "  validation_data=validation_generator,\n",
        "  epochs=epochs\n",
        ")"
      ]
    },
    {
      "cell_type": "code",
      "execution_count": null,
      "metadata": {
        "id": "KytnJzAaPTs8"
      },
      "outputs": [],
      "source": [
        "# Save the model\n",
        "saved_model_path = \"./model.h5\"\n",
        "model.save(saved_model_path)"
      ]
    },
    {
      "cell_type": "code",
      "execution_count": null,
      "metadata": {
        "id": "7yUwWRaYPWGV"
      },
      "outputs": [],
      "source": [
        "# Convert the Keras model to TFLite model\n",
        "model = tf.keras.models.load_model(saved_model_path)\n",
        "converter = tf.lite.TFLiteConverter.from_keras_model(model)\n",
        "tflite_model = converter.convert()\n",
        "open(\"converted_model.tflite\", \"wb\").write(tflite_model)"
      ]
    },
    {
      "cell_type": "code",
      "execution_count": null,
      "metadata": {
        "id": "2Te-nWxOPfg_"
      },
      "outputs": [],
      "source": [
        "# Paths for TFLite model and metadata\n",
        "TFLITE_MODEL_PATH = 'converted_model.tflite'\n",
        "MODEL_WITH_METADATA_PATH = 'model_with_metadata.tflite'\n",
        "\n",
        "# Labels\n",
        "labels = [\"Basal\", \"Benign\", \"Melanoma\"]\n",
        "\n",
        "# Save labels to a temporary file\n",
        "LABEL_FILE = 'labels.txt'\n",
        "with open(LABEL_FILE, 'w') as f:\n",
        "    for label in labels:\n",
        "        f.write(f\"{label}\\n\")\n",
        "\n",
        "# Create an ImageClassifierWriter with normalization options\n",
        "writer = image_classifier.MetadataWriter.create_for_inference(\n",
        "    model_buffer=writer_utils.load_file(TFLITE_MODEL_PATH),\n",
        "    input_norm_mean=[127.5],  # Normalization mean\n",
        "    input_norm_std=[127.5],   # Normalization std\n",
        "    label_file_paths=[LABEL_FILE]\n",
        ")\n",
        "\n",
        "# Populate metadata in the model\n",
        "model_with_metadata = writer.populate()\n",
        "\n",
        "# Save the model with metadata\n",
        "writer_utils.save_file(model_with_metadata, MODEL_WITH_METADATA_PATH)\n",
        "\n",
        "# Verify the metadata\n",
        "displayer = metadata.MetadataDisplayer.with_model_file(MODEL_WITH_METADATA_PATH)\n",
        "print(\"Metadata populated:\")\n",
        "print(displayer.get_metadata_json())\n",
        "print(\"Associated file(s) populated:\")\n",
        "print(displayer.get_packed_associated_file_list())"
      ]
    }
  ],
  "metadata": {
    "accelerator": "GPU",
    "colab": {
      "collapsed_sections": [
        "XlclfnT5U4ja"
      ],
      "gpuType": "T4",
      "provenance": []
    },
    "kernelspec": {
      "display_name": "Python 3",
      "name": "python3"
    },
    "language_info": {
      "name": "python"
    }
  },
  "nbformat": 4,
  "nbformat_minor": 0
}