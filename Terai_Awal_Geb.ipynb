{
  "cells": [
    {
      "cell_type": "markdown",
      "metadata": {
        "id": "view-in-github",
        "colab_type": "text"
      },
      "source": [
        "<a href=\"https://colab.research.google.com/github/stevengregori92/CAPSTONE_GACOR/blob/ml/Terai_Awal_Geb.ipynb\" target=\"_parent\"><img src=\"https://colab.research.google.com/assets/colab-badge.svg\" alt=\"Open In Colab\"/></a>"
      ]
    },
    {
      "cell_type": "markdown",
      "source": [
        "# Import Dataset"
      ],
      "metadata": {
        "id": "n7MOfGxpWLJ8"
      }
    },
    {
      "cell_type": "code",
      "source": [
        "!gdown https://drive.google.com/uc?id=1-0QazLXpYyeWO8YtheGN-zvNR-4JSF9c &> /dev/null\n",
        "!unzip gabungan.zip &> /dev/null\n",
        "!rm -r gabungan.zip &> /dev/null"
      ],
      "metadata": {
        "id": "gj8yQ5R0aEhl"
      },
      "execution_count": 1,
      "outputs": []
    },
    {
      "cell_type": "markdown",
      "source": [
        "# Import Libraries"
      ],
      "metadata": {
        "id": "DfRQWwJ0Wcni"
      }
    },
    {
      "cell_type": "code",
      "execution_count": 2,
      "metadata": {
        "id": "yL5Y7rbxDKSg"
      },
      "outputs": [],
      "source": [
        "import tensorflow as tf\n",
        "from tensorflow.keras.preprocessing.image import ImageDataGenerator\n",
        "import matplotlib.pyplot as plt"
      ]
    },
    {
      "cell_type": "markdown",
      "source": [
        "# Preprocessing"
      ],
      "metadata": {
        "id": "jdyV1CStWhjp"
      }
    },
    {
      "cell_type": "code",
      "execution_count": 3,
      "metadata": {
        "colab": {
          "base_uri": "https://localhost:8080/"
        },
        "id": "HU4efM6uE6Yd",
        "outputId": "4cc263cd-249e-4a19-e7ee-5d0d2f92b980"
      },
      "outputs": [
        {
          "output_type": "stream",
          "name": "stdout",
          "text": [
            "Found 16075 images belonging to 8 classes.\n",
            "Found 2903 images belonging to 8 classes.\n"
          ]
        }
      ],
      "source": [
        "def train_val_generators(TRAINING_DIR, VALIDATION_DIR):\n",
        "    \"\"\"\n",
        "    Creates the training and validation data generators\n",
        "\n",
        "    Args:\n",
        "        TRAINING_DIR (string): directory path containing the training images\n",
        "        VALIDATION_DIR (string): directory path containing the testing/validation images\n",
        "\n",
        "    Returns:\n",
        "        train_generator, validation_generator - tuple containing the generators\n",
        "    \"\"\"\n",
        "    train_datagen = ImageDataGenerator(rescale=1.0/255,\n",
        "                                       rotation_range=40,\n",
        "                                       width_shift_range=0.2,\n",
        "                                       height_shift_range=0.2,\n",
        "                                       shear_range=0.2,\n",
        "                                       zoom_range=0.2,\n",
        "                                       horizontal_flip=True,\n",
        "                                       fill_mode='nearest')\n",
        "\n",
        "    train_generator = train_datagen.flow_from_directory(directory=TRAINING_DIR,\n",
        "                                                        batch_size=32,\n",
        "                                                        class_mode='categorical',\n",
        "                                                        target_size=(224, 224))\n",
        "\n",
        "    validation_datagen = ImageDataGenerator(rescale=1.0/255)\n",
        "    validation_generator = validation_datagen.flow_from_directory(directory=VALIDATION_DIR,\n",
        "                                                                  batch_size=32,\n",
        "                                                                  class_mode='categorical',\n",
        "                                                                  target_size=(224, 224))\n",
        "    return train_generator, validation_generator\n",
        "\n",
        "# Paths\n",
        "TRAINING_DIR = '/content/gabungan/train'\n",
        "VALIDATION_DIR = '/content/gabungan/valid'\n",
        "\n",
        "train_generator, validation_generator = train_val_generators(TRAINING_DIR, VALIDATION_DIR)"
      ]
    },
    {
      "cell_type": "markdown",
      "source": [
        "# Manual Architecture"
      ],
      "metadata": {
        "id": "ZzXrIqUcWkwG"
      }
    },
    {
      "cell_type": "code",
      "execution_count": 4,
      "metadata": {
        "id": "X2p9Y-uqE_HG"
      },
      "outputs": [],
      "source": [
        "def create_model():\n",
        "    model = tf.keras.models.Sequential([\n",
        "        tf.keras.layers.Conv2D(32, (3, 3), activation='relu', input_shape=(224, 224, 3)),\n",
        "        tf.keras.layers.MaxPooling2D(2, 2),\n",
        "        tf.keras.layers.Conv2D(64, (3, 3), activation='relu'),\n",
        "        tf.keras.layers.MaxPooling2D(2, 2),\n",
        "        tf.keras.layers.Conv2D(128, (3, 3), activation='relu'),\n",
        "        tf.keras.layers.MaxPooling2D(2, 2),\n",
        "        tf.keras.layers.Flatten(),\n",
        "        tf.keras.layers.Dense(512, activation='relu'),\n",
        "        tf.keras.layers.Dense(8, activation='softmax')\n",
        "    ])\n",
        "\n",
        "    model.compile(optimizer='adam',\n",
        "                  loss=tf.keras.losses.CategoricalCrossentropy(),\n",
        "                  metrics=['accuracy'])\n",
        "\n",
        "    return model"
      ]
    },
    {
      "cell_type": "markdown",
      "source": [
        "### Train"
      ],
      "metadata": {
        "id": "lGzopauwWtES"
      }
    },
    {
      "cell_type": "code",
      "execution_count": 5,
      "metadata": {
        "colab": {
          "base_uri": "https://localhost:8080/"
        },
        "id": "64590nZXFb25",
        "outputId": "f9e55d60-5b1d-46b7-dabf-d8a476774f82"
      },
      "outputs": [
        {
          "output_type": "stream",
          "name": "stdout",
          "text": [
            "503/503 [==============================] - 219s 423ms/step - loss: 1.7557 - accuracy: 0.3465 - val_loss: 1.5393 - val_accuracy: 0.4292\n"
          ]
        }
      ],
      "source": [
        "model = create_model()\n",
        "history = model.fit(train_generator,\n",
        "                    epochs=1,\n",
        "                    verbose=1,\n",
        "                    validation_data=validation_generator)"
      ]
    },
    {
      "cell_type": "code",
      "source": [
        "acc      = history.history[     'accuracy' ]\n",
        "val_acc  = history.history[ 'val_accuracy' ]\n",
        "loss     = history.history[    'loss' ]\n",
        "val_loss = history.history['val_loss' ]\n",
        "\n",
        "epochs   = range(len(acc)) # Get number of epochs\n",
        "\n",
        "plt.plot  ( epochs, acc, label='Training')\n",
        "plt.plot  ( epochs, val_acc, label='Validation')\n",
        "plt.title ('Training and validation accuracy')\n",
        "plt.legend()\n",
        "plt.figure()\n",
        "\n",
        "plt.plot  ( epochs, loss, label='Training')\n",
        "plt.plot  ( epochs, val_loss, label='Validation')\n",
        "plt.legend()\n",
        "plt.title ('Training and validation loss')"
      ],
      "metadata": {
        "colab": {
          "base_uri": "https://localhost:8080/",
          "height": 905
        },
        "id": "kI3g1pGXneCE",
        "outputId": "403a4386-b316-4695-97c4-2e660ccf8a13"
      },
      "execution_count": 6,
      "outputs": [
        {
          "output_type": "execute_result",
          "data": {
            "text/plain": [
              "Text(0.5, 1.0, 'Training and validation loss')"
            ]
          },
          "metadata": {},
          "execution_count": 6
        },
        {
          "output_type": "display_data",
          "data": {
            "text/plain": [
              "<Figure size 640x480 with 1 Axes>"
            ],
            "image/png": "[encoded data removed]"
          },
          "metadata": {}
        },
        {
          "output_type": "display_data",
          "data": {
            "text/plain": [
              "<Figure size 640x480 with 1 Axes>"
            ],
            "image/png": "[encoded data removed]"
          },
          "metadata": {}
        }
      ]
    },
    {
      "cell_type": "markdown",
      "source": [
        "### Saved Model"
      ],
      "metadata": {
        "id": "LMOViM-IWvh4"
      }
    },
    {
      "cell_type": "code",
      "source": [
        "# Save the model\n",
        "saved_model_path = \"./model.h5\"\n",
        "model.save(saved_model_path)"
      ],
      "metadata": {
        "colab": {
          "base_uri": "https://localhost:8080/"
        },
        "id": "-ZB9cJ4ZfzzM",
        "outputId": "7db45b0f-e2db-4846-99c0-c7a136ba5b7c"
      },
      "execution_count": 7,
      "outputs": [
        {
          "output_type": "stream",
          "name": "stderr",
          "text": [
            "/usr/local/lib/python3.10/dist-packages/keras/src/engine/training.py:3103: UserWarning: You are saving your model as an HDF5 file via `model.save()`. This file format is considered legacy. We recommend using instead the native Keras format, e.g. `model.save('my_model.keras')`.\n",
            "  saving_api.save_model(\n"
          ]
        }
      ]
    },
    {
      "cell_type": "code",
      "source": [
        "# Convert the Keras model to TFLite model\n",
        "model = tf.keras.models.load_model(saved_model_path)\n",
        "converter = tf.lite.TFLiteConverter.from_keras_model(model)\n",
        "tflite_model = converter.convert()\n",
        "open(\"converted_model.tflite\", \"wb\").write(tflite_model)"
      ],
      "metadata": {
        "colab": {
          "base_uri": "https://localhost:8080/"
        },
        "id": "Ka_mjGhwf0PS",
        "outputId": "c6931e78-0aa7-40c7-f4f2-7b7100c679f8"
      },
      "execution_count": 8,
      "outputs": [
        {
          "output_type": "execute_result",
          "data": {
            "text/plain": [
              "177604876"
            ]
          },
          "metadata": {},
          "execution_count": 8
        }
      ]
    },
    {
      "cell_type": "markdown",
      "source": [
        "### Convert to TFLITE"
      ],
      "metadata": {
        "id": "ZF_z76tbW1bo"
      }
    },
    {
      "cell_type": "code",
      "source": [
        "!pip install tflite-support &> /dev/null\n",
        "!pip uninstall tensorflow &> /dev/null\n",
        "!pip install tensorflow==\"2.13.0\" &> /dev/null"
      ],
      "metadata": {
        "id": "fXjnC2JFgB7j"
      },
      "execution_count": null,
      "outputs": []
    },
    {
      "cell_type": "code",
      "source": [
        "from tflite_support.metadata_writers import writer_utils\n",
        "from tflite_support.metadata_writers import image_classifier\n",
        "from tflite_support import metadata"
      ],
      "metadata": {
        "id": "WHSUzuA7f2iM"
      },
      "execution_count": null,
      "outputs": []
    },
    {
      "cell_type": "code",
      "source": [
        "# Paths for TFLite model and metadata\n",
        "TFLITE_MODEL_PATH = 'converted_model.tflite'\n",
        "MODEL_WITH_METADATA_PATH = 'model_with_metadata.tflite'\n",
        "\n",
        "# Ingat untuk selalu diganti sama label penyakit yang ditrain!\n",
        "labels = [\"Atopic Dermatitis\", \"Monkeypox\", \"Psoriasis\", \"Tinea Ringworm\", \"Warts Molluscum\"]\n",
        "\n",
        "# Save labels to a temporary file\n",
        "LABEL_FILE = 'labels.txt'\n",
        "with open(LABEL_FILE, 'w') as f:\n",
        "    for label in labels:\n",
        "        f.write(f\"{label}\\n\")\n",
        "\n",
        "# Create an ImageClassifierWriter with normalization options\n",
        "writer = image_classifier.MetadataWriter.create_for_inference(\n",
        "    model_buffer=writer_utils.load_file(TFLITE_MODEL_PATH),\n",
        "    input_norm_mean=[127.5],  # Normalization mean\n",
        "    input_norm_std=[127.5],   # Normalization std\n",
        "    label_file_paths=[LABEL_FILE]\n",
        ")\n",
        "\n",
        "# Populate metadata in the model\n",
        "model_with_metadata = writer.populate()\n",
        "\n",
        "# Save the model with metadata\n",
        "writer_utils.save_file(model_with_metadata, MODEL_WITH_METADATA_PATH)\n",
        "\n",
        "# Verify the metadata\n",
        "displayer = metadata.MetadataDisplayer.with_model_file(MODEL_WITH_METADATA_PATH)\n",
        "print(\"Metadata populated:\")\n",
        "print(displayer.get_metadata_json())\n",
        "print(\"Associated file(s) populated:\")\n",
        "print(displayer.get_packed_associated_file_list())"
      ],
      "metadata": {
        "id": "ARQZUZITf-ug"
      },
      "execution_count": null,
      "outputs": []
    },
    {
      "cell_type": "markdown",
      "source": [
        "## RestNet MODEL"
      ],
      "metadata": {
        "id": "XlclfnT5U4ja"
      }
    },
    {
      "cell_type": "code",
      "source": [
        "import tensorflow as tf\n",
        "from tensorflow.keras.applications import ResNet50\n",
        "from tensorflow.keras.layers import Flatten, Dense, Conv2D, MaxPooling2D, Dropout\n",
        "from tensorflow.keras.models import Sequential"
      ],
      "metadata": {
        "id": "yG1_oisNU908"
      },
      "execution_count": null,
      "outputs": []
    },
    {
      "cell_type": "code",
      "source": [
        "pretrained_model = ResNet50(include_top=False, input_shape=(150, 150, 3), weights='imagenet')\n",
        "pretrained_model.trainable = False\n",
        "\n",
        "resnet_model = Sequential()\n",
        "resnet_model.add(pretrained_model)\n",
        "resnet_model.add(Conv2D(32, (3, 3), activation='relu', padding='same'))\n",
        "resnet_model.add(MaxPooling2D())\n",
        "resnet_model.add(Conv2D(16, (3, 3), activation='relu', padding='same'))\n",
        "resnet_model.add(MaxPooling2D())\n",
        "resnet_model.add(Flatten())\n",
        "resnet_model.add(Dense(512, activation='relu'))\n",
        "resnet_model.add(Dropout(0.5))\n",
        "resnet_model.add(Dense(3, activation='softmax'))\n",
        "\n",
        "resnet_model.compile(optimizer='adam',\n",
        "                  loss=tf.keras.losses.CategoricalCrossentropy(),\n",
        "                  metrics=['accuracy'])\n",
        "\n",
        "resnet_model.summary()"
      ],
      "metadata": {
        "colab": {
          "base_uri": "https://localhost:8080/"
        },
        "id": "5uVp8ZV7U8AO",
        "outputId": "cb132436-61fb-4499-f147-e910c7d99694"
      },
      "execution_count": null,
      "outputs": [
        {
          "output_type": "stream",
          "name": "stdout",
          "text": [
            "Model: \"sequential_2\"\n",
            "_________________________________________________________________\n",
            " Layer (type)                Output Shape              Param #   \n",
            "=================================================================\n",
            " resnet50 (Functional)       (None, 5, 5, 2048)        23587712  \n",
            "                                                                 \n",
            " conv2d_4 (Conv2D)           (None, 5, 5, 32)          589856    \n",
            "                                                                 \n",
            " max_pooling2d_4 (MaxPoolin  (None, 2, 2, 32)          0         \n",
            " g2D)                                                            \n",
            "                                                                 \n",
            " conv2d_5 (Conv2D)           (None, 2, 2, 16)          4624      \n",
            "                                                                 \n",
            " max_pooling2d_5 (MaxPoolin  (None, 1, 1, 16)          0         \n",
            " g2D)                                                            \n",
            "                                                                 \n",
            " flatten_2 (Flatten)         (None, 16)                0         \n",
            "                                                                 \n",
            " dense_4 (Dense)             (None, 512)               8704      \n",
            "                                                                 \n",
            " dropout_2 (Dropout)         (None, 512)               0         \n",
            "                                                                 \n",
            " dense_5 (Dense)             (None, 3)                 1539      \n",
            "                                                                 \n",
            "=================================================================\n",
            "Total params: 24192435 (92.29 MB)\n",
            "Trainable params: 604723 (2.31 MB)\n",
            "Non-trainable params: 23587712 (89.98 MB)\n",
            "_________________________________________________________________\n"
          ]
        }
      ]
    },
    {
      "cell_type": "code",
      "source": [
        "epochs=2\n",
        "history = resnet_model.fit(\n",
        "  train_generator,\n",
        "  validation_data=validation_generator,\n",
        "  epochs=epochs\n",
        ")"
      ],
      "metadata": {
        "colab": {
          "base_uri": "https://localhost:8080/"
        },
        "id": "VnYMNPDEVKoo",
        "outputId": "2214d999-7ace-4dc6-af5d-3820f75e27bb"
      },
      "execution_count": null,
      "outputs": [
        {
          "output_type": "stream",
          "name": "stdout",
          "text": [
            "Epoch 1/2\n",
            "217/217 [==============================] - 721s 3s/step - loss: 1.0748 - accuracy: 0.4308 - val_loss: 1.0799 - val_accuracy: 0.4366\n",
            "Epoch 2/2\n",
            "217/217 [==============================] - ETA: 0s - loss: 1.0678 - accuracy: 0.4358"
          ]
        }
      ]
    },
    {
      "cell_type": "code",
      "source": [
        "# Save the model\n",
        "saved_model_path = \"./model.h5\"\n",
        "model.save(saved_model_path)"
      ],
      "metadata": {
        "colab": {
          "base_uri": "https://localhost:8080/"
        },
        "id": "KytnJzAaPTs8",
        "outputId": "0d8372dd-3c9e-4e2d-e14c-e84b7b0ed272"
      },
      "execution_count": null,
      "outputs": [
        {
          "output_type": "stream",
          "name": "stderr",
          "text": [
            "/usr/local/lib/python3.10/dist-packages/keras/src/engine/training.py:3000: UserWarning: You are saving your model as an HDF5 file via `model.save()`. This file format is considered legacy. We recommend using instead the native Keras format, e.g. `model.save('my_model.keras')`.\n",
            "  saving_api.save_model(\n"
          ]
        }
      ]
    },
    {
      "cell_type": "code",
      "source": [
        "# Convert the Keras model to TFLite model\n",
        "model = tf.keras.models.load_model(saved_model_path)\n",
        "converter = tf.lite.TFLiteConverter.from_keras_model(model)\n",
        "tflite_model = converter.convert()\n",
        "open(\"converted_model.tflite\", \"wb\").write(tflite_model)"
      ],
      "metadata": {
        "colab": {
          "base_uri": "https://localhost:8080/"
        },
        "id": "7yUwWRaYPWGV",
        "outputId": "d7b467c9-0052-449c-c892-f8f7dd7b8b34"
      },
      "execution_count": null,
      "outputs": [
        {
          "output_type": "execute_result",
          "data": {
            "text/plain": [
              "19339648"
            ]
          },
          "metadata": {},
          "execution_count": 6
        }
      ]
    },
    {
      "cell_type": "code",
      "source": [
        "# Paths for TFLite model and metadata\n",
        "TFLITE_MODEL_PATH = 'converted_model.tflite'\n",
        "MODEL_WITH_METADATA_PATH = 'model_with_metadata.tflite'\n",
        "\n",
        "# Labels\n",
        "labels = [\"Basal\", \"Benign\", \"Melanoma\"]\n",
        "\n",
        "# Save labels to a temporary file\n",
        "LABEL_FILE = 'labels.txt'\n",
        "with open(LABEL_FILE, 'w') as f:\n",
        "    for label in labels:\n",
        "        f.write(f\"{label}\\n\")\n",
        "\n",
        "# Create an ImageClassifierWriter with normalization options\n",
        "writer = image_classifier.MetadataWriter.create_for_inference(\n",
        "    model_buffer=writer_utils.load_file(TFLITE_MODEL_PATH),\n",
        "    input_norm_mean=[127.5],  # Normalization mean\n",
        "    input_norm_std=[127.5],   # Normalization std\n",
        "    label_file_paths=[LABEL_FILE]\n",
        ")\n",
        "\n",
        "# Populate metadata in the model\n",
        "model_with_metadata = writer.populate()\n",
        "\n",
        "# Save the model with metadata\n",
        "writer_utils.save_file(model_with_metadata, MODEL_WITH_METADATA_PATH)\n",
        "\n",
        "# Verify the metadata\n",
        "displayer = metadata.MetadataDisplayer.with_model_file(MODEL_WITH_METADATA_PATH)\n",
        "print(\"Metadata populated:\")\n",
        "print(displayer.get_metadata_json())\n",
        "print(\"Associated file(s) populated:\")\n",
        "print(displayer.get_packed_associated_file_list())"
      ],
      "metadata": {
        "id": "2Te-nWxOPfg_",
        "outputId": "b225a769-5f29-41ed-9f0f-5cd031fb6054",
        "colab": {
          "base_uri": "https://localhost:8080/"
        }
      },
      "execution_count": null,
      "outputs": [
        {
          "output_type": "stream",
          "name": "stdout",
          "text": [
            "Metadata populated:\n",
            "{\n",
            "  \"name\": \"ImageClassifier\",\n",
            "  \"description\": \"Identify the most prominent object in the image from a known set of categories.\",\n",
            "  \"subgraph_metadata\": [\n",
            "    {\n",
            "      \"input_tensor_metadata\": [\n",
            "        {\n",
            "          \"name\": \"image\",\n",
            "          \"description\": \"Input image to be classified.\",\n",
            "          \"content\": {\n",
            "            \"content_properties_type\": \"ImageProperties\",\n",
            "            \"content_properties\": {\n",
            "              \"color_space\": \"RGB\"\n",
            "            }\n",
            "          },\n",
            "          \"process_units\": [\n",
            "            {\n",
            "              \"options_type\": \"NormalizationOptions\",\n",
            "              \"options\": {\n",
            "                \"mean\": [\n",
            "                  127.5\n",
            "                ],\n",
            "                \"std\": [\n",
            "                  127.5\n",
            "                ]\n",
            "              }\n",
            "            }\n",
            "          ],\n",
            "          \"stats\": {\n",
            "            \"max\": [\n",
            "              1.0\n",
            "            ],\n",
            "            \"min\": [\n",
            "              -1.0\n",
            "            ]\n",
            "          }\n",
            "        }\n",
            "      ],\n",
            "      \"output_tensor_metadata\": [\n",
            "        {\n",
            "          \"name\": \"probability\",\n",
            "          \"description\": \"Probabilities of the labels respectively.\",\n",
            "          \"content\": {\n",
            "            \"content_properties_type\": \"FeatureProperties\",\n",
            "            \"content_properties\": {\n",
            "            }\n",
            "          },\n",
            "          \"stats\": {\n",
            "            \"max\": [\n",
            "              1.0\n",
            "            ],\n",
            "            \"min\": [\n",
            "              0.0\n",
            "            ]\n",
            "          },\n",
            "          \"associated_files\": [\n",
            "            {\n",
            "              \"name\": \"labels.txt\",\n",
            "              \"description\": \"Labels for categories that the model can recognize.\",\n",
            "              \"type\": \"TENSOR_AXIS_LABELS\"\n",
            "            }\n",
            "          ]\n",
            "        }\n",
            "      ]\n",
            "    }\n",
            "  ],\n",
            "  \"min_parser_version\": \"1.0.0\"\n",
            "}\n",
            "\n",
            "Associated file(s) populated:\n",
            "['labels.txt']\n"
          ]
        }
      ]
    }
  ],
  "metadata": {
    "accelerator": "GPU",
    "colab": {
      "gpuType": "T4",
      "provenance": [],
      "collapsed_sections": [
        "XlclfnT5U4ja"
      ],
      "include_colab_link": true
    },
    "kernelspec": {
      "display_name": "Python 3",
      "name": "python3"
    },
    "language_info": {
      "name": "python"
    }
  },
  "nbformat": 4,
  "nbformat_minor": 0
}